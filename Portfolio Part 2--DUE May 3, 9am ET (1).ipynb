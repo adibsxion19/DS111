{
 "cells": [
  {
   "cell_type": "markdown",
   "metadata": {
    "deletable": false,
    "editable": false,
    "nbgrader": {
     "cell_type": "markdown",
     "checksum": "2a705614f39df2ef02b9df1853c3d2a3",
     "grade": false,
     "grade_id": "preamble",
     "locked": true,
     "schema_version": 3,
     "solution": false,
     "task": false
    }
   },
   "source": [
    "### DS4E-S21: Portfolio assignment: Part 2\n",
    "*Optional: Add a cell below this one to give your portfolio assignment its own title!*"
   ]
  },
  {
   "cell_type": "markdown",
   "metadata": {
    "deletable": false,
    "editable": false,
    "nbgrader": {
     "cell_type": "markdown",
     "checksum": "8617bcb800d9b850c3a11be75b77a741",
     "grade": false,
     "grade_id": "intro",
     "locked": true,
     "schema_version": 3,
     "solution": false,
     "task": false
    }
   },
   "source": [
    "### Instructions summary\n",
    "\n",
    "*Note: These are summarized instructions only. For the full assignment instructions, see the **[instructions document](https://docs.google.com/document/d/1z9xokYh49CiThWsUo-rNsVnUv76UKlBrsiob8hZ425w/edit?usp=sharing)**.*\n",
    "\n",
    "This two-part portfolio assignment is an opportunity to apply the skills and concepts from class to real-world data, as well as to experience the joys (and occasionally other emotions!) of conducting original data science research. \n",
    "\n",
    "In **Part 2**, you'll evaluate your data in terms of ethics, conduct correlation, regression, and clustering analyses of your data, discuss your findings, and imagine possible next steps in your research.\n",
    "\n",
    "To complete Part 2, answer the following questions using your dataset. We recommend using the same dataset you used for Part 1, but it is not required. If you are using your own dataset, and it is not the same dataset you used for Part 1, you must get permission from your TA prior to submission. Remember that **all code** must be commented clearly and thoroughly. You may use as many cells as you wish to answer each question.\n",
    "\n",
    "Part 2 must be submitted through JupyterHub by **Monday**, **May 3**, at **9am ET**."
   ]
  },
  {
   "cell_type": "code",
   "execution_count": 453,
   "metadata": {},
   "outputs": [],
   "source": [
    "'''Import libraries, packages, file, and modules'''\n",
    "# packages for dataframes, arrays, and plots\n",
    "import pandas as pd\n",
    "import numpy as np\n",
    "import matplotlib.pyplot as plt\n",
    "\n",
    "# stats models \n",
    "import statsmodels.api as sm                    \n",
    "import statsmodels.formula.api as smf  \n",
    "import scipy.stats as sp                             # for p-values and correlations\n",
    "# SciKit Learn packages\n",
    "from sklearn.model_selection import train_test_split # for splitting data\n",
    "from sklearn.preprocessing import StandardScaler     # feature scaling\n",
    "from sklearn import metrics                          # for evaluation metrics\n",
    "\n",
    "from sklearn.linear_model import LinearRegression    # linear regression\n",
    "from sklearn.neighbors import KNeighborsClassifier   # knn\n",
    "from sklearn.cluster import KMeans                   # kmeans\n",
    "\n",
    "from kneed import KneeLocator                        # elbow score\n",
    "ramen_data = pd.read_csv('ramen-ratings.csv')        # csv of ramen ratings data"
   ]
  },
  {
   "cell_type": "markdown",
   "metadata": {
    "deletable": false,
    "editable": false,
    "nbgrader": {
     "cell_type": "markdown",
     "checksum": "14886cd3784e0de358d286c2087113e3",
     "grade": false,
     "grade_id": "Q1",
     "locked": true,
     "points": 5,
     "schema_version": 3,
     "solution": false,
     "task": true
    }
   },
   "source": [
    "### Question 1\n",
    "\n",
    "Describe any potential ethical concerns related to the data. Give an example of a variable that is NOT included in the dataset but that would raise ethical concerns if it were. Explain your reasoning."
   ]
  },
  {
   "cell_type": "markdown",
   "metadata": {},
   "source": [
    "An ethical concern about this dataset is that it might be subtley promoting certain ramen (with high ratings) which might be bad for one's health. Many ramen include MSG, which is known for its detrimental affects, but given this dataset, people will not be aware of this. It might violate the principle of Beneficience. If the variable of reviewer's name that was included without asking for permission, then it would bring up ethical conerns because they would not have informed consent to having their names be included in the dataset and publicly displayed. It would violate the principle of Respect for Persons."
   ]
  },
  {
   "cell_type": "markdown",
   "metadata": {
    "deletable": false,
    "editable": false,
    "nbgrader": {
     "cell_type": "markdown",
     "checksum": "651f4c1f133319e164e721ca084f4df8",
     "grade": false,
     "grade_id": "Q2-5-overview",
     "locked": true,
     "schema_version": 3,
     "solution": false,
     "task": false
    }
   },
   "source": [
    "## Linear Relationships\n",
    "\n",
    "*Questions 2 through 5 relate to linear relationships between variables in your data.*"
   ]
  },
  {
   "cell_type": "markdown",
   "metadata": {
    "deletable": false,
    "editable": false,
    "nbgrader": {
     "cell_type": "markdown",
     "checksum": "1257616a3eeb09535489379e14212793",
     "grade": false,
     "grade_id": "Q2",
     "locked": true,
     "points": 5,
     "schema_version": 3,
     "solution": false,
     "task": true
    }
   },
   "source": [
    "### Question 2\n",
    "\n",
    "Name two variables from your dataset (these can be variables you described in Part 1, but don’t have to be). Calculate the correlation between them. \n",
    "\n",
    "*Note: It is okay if the variables you select do not turn out to be correlated or if they are negatively correlated.*"
   ]
  },
  {
   "cell_type": "markdown",
   "metadata": {},
   "source": [
    "Two variables from my dataset are: Style and Stars, or the type of container the ramen comes in and the ratings (out of 5.0) of the ramen."
   ]
  },
  {
   "cell_type": "code",
   "execution_count": 454,
   "metadata": {},
   "outputs": [
    {
     "data": {
      "text/html": [
       "<div>\n",
       "<style scoped>\n",
       "    .dataframe tbody tr th:only-of-type {\n",
       "        vertical-align: middle;\n",
       "    }\n",
       "\n",
       "    .dataframe tbody tr th {\n",
       "        vertical-align: top;\n",
       "    }\n",
       "\n",
       "    .dataframe thead th {\n",
       "        text-align: right;\n",
       "    }\n",
       "</style>\n",
       "<table border=\"1\" class=\"dataframe\">\n",
       "  <thead>\n",
       "    <tr style=\"text-align: right;\">\n",
       "      <th></th>\n",
       "      <th>Review #</th>\n",
       "      <th>Brand</th>\n",
       "      <th>Variety</th>\n",
       "      <th>Style</th>\n",
       "      <th>Country</th>\n",
       "      <th>Stars</th>\n",
       "      <th>Top Ten</th>\n",
       "    </tr>\n",
       "  </thead>\n",
       "  <tbody>\n",
       "    <tr>\n",
       "      <th>0</th>\n",
       "      <td>2580</td>\n",
       "      <td>New Touch</td>\n",
       "      <td>T's Restaurant Tantanmen</td>\n",
       "      <td>Cup</td>\n",
       "      <td>Japan</td>\n",
       "      <td>3.75</td>\n",
       "      <td>NaN</td>\n",
       "    </tr>\n",
       "    <tr>\n",
       "      <th>1</th>\n",
       "      <td>2579</td>\n",
       "      <td>Just Way</td>\n",
       "      <td>Noodles Spicy Hot Sesame Spicy Hot Sesame Guan...</td>\n",
       "      <td>Pack</td>\n",
       "      <td>Taiwan</td>\n",
       "      <td>1</td>\n",
       "      <td>NaN</td>\n",
       "    </tr>\n",
       "    <tr>\n",
       "      <th>2</th>\n",
       "      <td>2578</td>\n",
       "      <td>Nissin</td>\n",
       "      <td>Cup Noodles Chicken Vegetable</td>\n",
       "      <td>Cup</td>\n",
       "      <td>USA</td>\n",
       "      <td>2.25</td>\n",
       "      <td>NaN</td>\n",
       "    </tr>\n",
       "    <tr>\n",
       "      <th>3</th>\n",
       "      <td>2577</td>\n",
       "      <td>Wei Lih</td>\n",
       "      <td>GGE Ramen Snack Tomato Flavor</td>\n",
       "      <td>Pack</td>\n",
       "      <td>Taiwan</td>\n",
       "      <td>2.75</td>\n",
       "      <td>NaN</td>\n",
       "    </tr>\n",
       "    <tr>\n",
       "      <th>4</th>\n",
       "      <td>2576</td>\n",
       "      <td>Ching's Secret</td>\n",
       "      <td>Singapore Curry</td>\n",
       "      <td>Pack</td>\n",
       "      <td>India</td>\n",
       "      <td>3.75</td>\n",
       "      <td>NaN</td>\n",
       "    </tr>\n",
       "  </tbody>\n",
       "</table>\n",
       "</div>"
      ],
      "text/plain": [
       "   Review #           Brand  \\\n",
       "0      2580       New Touch   \n",
       "1      2579        Just Way   \n",
       "2      2578          Nissin   \n",
       "3      2577         Wei Lih   \n",
       "4      2576  Ching's Secret   \n",
       "\n",
       "                                             Variety Style Country Stars  \\\n",
       "0                          T's Restaurant Tantanmen    Cup   Japan  3.75   \n",
       "1  Noodles Spicy Hot Sesame Spicy Hot Sesame Guan...  Pack  Taiwan     1   \n",
       "2                      Cup Noodles Chicken Vegetable   Cup     USA  2.25   \n",
       "3                      GGE Ramen Snack Tomato Flavor  Pack  Taiwan  2.75   \n",
       "4                                    Singapore Curry  Pack   India  3.75   \n",
       "\n",
       "  Top Ten  \n",
       "0     NaN  \n",
       "1     NaN  \n",
       "2     NaN  \n",
       "3     NaN  \n",
       "4     NaN  "
      ]
     },
     "execution_count": 454,
     "metadata": {},
     "output_type": "execute_result"
    }
   ],
   "source": [
    "ramen_data.head() #checking dataset out"
   ]
  },
  {
   "cell_type": "code",
   "execution_count": 455,
   "metadata": {},
   "outputs": [
    {
     "data": {
      "text/plain": [
       "Review #     int64\n",
       "Brand       object\n",
       "Variety     object\n",
       "Style       object\n",
       "Country     object\n",
       "Stars       object\n",
       "Top Ten     object\n",
       "dtype: object"
      ]
     },
     "execution_count": 455,
     "metadata": {},
     "output_type": "execute_result"
    }
   ],
   "source": [
    "ramen_data.dtypes #seeing the data type for each variable - tells us what we need to change"
   ]
  },
  {
   "cell_type": "code",
   "execution_count": 456,
   "metadata": {},
   "outputs": [
    {
     "data": {
      "text/plain": [
       "Review #     object\n",
       "Brand        object\n",
       "Variety      object\n",
       "Style        object\n",
       "Country      object\n",
       "Stars       float64\n",
       "Top Ten      object\n",
       "dtype: object"
      ]
     },
     "execution_count": 456,
     "metadata": {},
     "output_type": "execute_result"
    }
   ],
   "source": [
    "#take out observations where there is no rating or style isn't recorded, turn Stars variable into float - numeric discrete\n",
    "ramen_data = ramen_data[ramen_data[\"Stars\"] != \"Unrated\"]\n",
    "ramen_data = ramen_data[ramen_data[\"Style\"] != \"Unrated\"].astype(str)\n",
    "ramen_data = ramen_data[ramen_data[\"Style\"] != \"Unrated\"]\n",
    "ramen_data = ramen_data[ramen_data[\"Style\"] != \"nan\"]\n",
    "ramen_data[\"Stars\"] = ramen_data[\"Stars\"].astype(float)\n",
    "ramen_data.dtypes"
   ]
  },
  {
   "cell_type": "code",
   "execution_count": 457,
   "metadata": {},
   "outputs": [
    {
     "data": {
      "text/plain": [
       "Pack    1528\n",
       "Bowl     481\n",
       "Cup      450\n",
       "Tray     108\n",
       "Box        6\n",
       "Bar        1\n",
       "Can        1\n",
       "Name: Style, dtype: int64"
      ]
     },
     "execution_count": 457,
     "metadata": {},
     "output_type": "execute_result"
    }
   ],
   "source": [
    "ramen_data[\"Style\"].value_counts() #each type of ramen"
   ]
  },
  {
   "cell_type": "code",
   "execution_count": 458,
   "metadata": {},
   "outputs": [],
   "source": [
    "# taking out ramen ratings for bar and can, because there is only 1 observation for each - doesn't tell us anything\n",
    "ramen_data_new = ramen_data[ramen_data[\"Style\"] != \"Bar\"].copy()\n",
    "ramen_data_new = ramen_data_new[ramen_data_new[\"Style\"] != \"Can\"]"
   ]
  },
  {
   "cell_type": "code",
   "execution_count": 459,
   "metadata": {},
   "outputs": [
    {
     "name": "stdout",
     "output_type": "stream",
     "text": [
      "Key for Style Type Int: {'Cup': 0, 'Tray': 1, 'Bowl': 2, 'Pack': 3, 'Box': 4}\n"
     ]
    },
    {
     "data": {
      "text/html": [
       "<div>\n",
       "<style scoped>\n",
       "    .dataframe tbody tr th:only-of-type {\n",
       "        vertical-align: middle;\n",
       "    }\n",
       "\n",
       "    .dataframe tbody tr th {\n",
       "        vertical-align: top;\n",
       "    }\n",
       "\n",
       "    .dataframe thead th {\n",
       "        text-align: right;\n",
       "    }\n",
       "</style>\n",
       "<table border=\"1\" class=\"dataframe\">\n",
       "  <thead>\n",
       "    <tr style=\"text-align: right;\">\n",
       "      <th></th>\n",
       "      <th>Review #</th>\n",
       "      <th>Brand</th>\n",
       "      <th>Variety</th>\n",
       "      <th>Style</th>\n",
       "      <th>Country</th>\n",
       "      <th>Stars</th>\n",
       "      <th>Top Ten</th>\n",
       "      <th>Style Type Int</th>\n",
       "    </tr>\n",
       "  </thead>\n",
       "  <tbody>\n",
       "    <tr>\n",
       "      <th>0</th>\n",
       "      <td>2580</td>\n",
       "      <td>New Touch</td>\n",
       "      <td>T's Restaurant Tantanmen</td>\n",
       "      <td>Cup</td>\n",
       "      <td>Japan</td>\n",
       "      <td>3.75</td>\n",
       "      <td>nan</td>\n",
       "      <td>0</td>\n",
       "    </tr>\n",
       "    <tr>\n",
       "      <th>1</th>\n",
       "      <td>2579</td>\n",
       "      <td>Just Way</td>\n",
       "      <td>Noodles Spicy Hot Sesame Spicy Hot Sesame Guan...</td>\n",
       "      <td>Pack</td>\n",
       "      <td>Taiwan</td>\n",
       "      <td>1.00</td>\n",
       "      <td>nan</td>\n",
       "      <td>3</td>\n",
       "    </tr>\n",
       "    <tr>\n",
       "      <th>2</th>\n",
       "      <td>2578</td>\n",
       "      <td>Nissin</td>\n",
       "      <td>Cup Noodles Chicken Vegetable</td>\n",
       "      <td>Cup</td>\n",
       "      <td>USA</td>\n",
       "      <td>2.25</td>\n",
       "      <td>nan</td>\n",
       "      <td>0</td>\n",
       "    </tr>\n",
       "    <tr>\n",
       "      <th>3</th>\n",
       "      <td>2577</td>\n",
       "      <td>Wei Lih</td>\n",
       "      <td>GGE Ramen Snack Tomato Flavor</td>\n",
       "      <td>Pack</td>\n",
       "      <td>Taiwan</td>\n",
       "      <td>2.75</td>\n",
       "      <td>nan</td>\n",
       "      <td>3</td>\n",
       "    </tr>\n",
       "    <tr>\n",
       "      <th>4</th>\n",
       "      <td>2576</td>\n",
       "      <td>Ching's Secret</td>\n",
       "      <td>Singapore Curry</td>\n",
       "      <td>Pack</td>\n",
       "      <td>India</td>\n",
       "      <td>3.75</td>\n",
       "      <td>nan</td>\n",
       "      <td>3</td>\n",
       "    </tr>\n",
       "    <tr>\n",
       "      <th>...</th>\n",
       "      <td>...</td>\n",
       "      <td>...</td>\n",
       "      <td>...</td>\n",
       "      <td>...</td>\n",
       "      <td>...</td>\n",
       "      <td>...</td>\n",
       "      <td>...</td>\n",
       "      <td>...</td>\n",
       "    </tr>\n",
       "    <tr>\n",
       "      <th>2575</th>\n",
       "      <td>5</td>\n",
       "      <td>Vifon</td>\n",
       "      <td>Hu Tiu Nam Vang [\"Phnom Penh\" style] Asian Sty...</td>\n",
       "      <td>Bowl</td>\n",
       "      <td>Vietnam</td>\n",
       "      <td>3.50</td>\n",
       "      <td>nan</td>\n",
       "      <td>2</td>\n",
       "    </tr>\n",
       "    <tr>\n",
       "      <th>2576</th>\n",
       "      <td>4</td>\n",
       "      <td>Wai Wai</td>\n",
       "      <td>Oriental Style Instant Noodles</td>\n",
       "      <td>Pack</td>\n",
       "      <td>Thailand</td>\n",
       "      <td>1.00</td>\n",
       "      <td>nan</td>\n",
       "      <td>3</td>\n",
       "    </tr>\n",
       "    <tr>\n",
       "      <th>2577</th>\n",
       "      <td>3</td>\n",
       "      <td>Wai Wai</td>\n",
       "      <td>Tom Yum Shrimp</td>\n",
       "      <td>Pack</td>\n",
       "      <td>Thailand</td>\n",
       "      <td>2.00</td>\n",
       "      <td>nan</td>\n",
       "      <td>3</td>\n",
       "    </tr>\n",
       "    <tr>\n",
       "      <th>2578</th>\n",
       "      <td>2</td>\n",
       "      <td>Wai Wai</td>\n",
       "      <td>Tom Yum Chili Flavor</td>\n",
       "      <td>Pack</td>\n",
       "      <td>Thailand</td>\n",
       "      <td>2.00</td>\n",
       "      <td>nan</td>\n",
       "      <td>3</td>\n",
       "    </tr>\n",
       "    <tr>\n",
       "      <th>2579</th>\n",
       "      <td>1</td>\n",
       "      <td>Westbrae</td>\n",
       "      <td>Miso Ramen</td>\n",
       "      <td>Pack</td>\n",
       "      <td>USA</td>\n",
       "      <td>0.50</td>\n",
       "      <td>nan</td>\n",
       "      <td>3</td>\n",
       "    </tr>\n",
       "  </tbody>\n",
       "</table>\n",
       "<p>2573 rows × 8 columns</p>\n",
       "</div>"
      ],
      "text/plain": [
       "     Review #           Brand  \\\n",
       "0        2580       New Touch   \n",
       "1        2579        Just Way   \n",
       "2        2578          Nissin   \n",
       "3        2577         Wei Lih   \n",
       "4        2576  Ching's Secret   \n",
       "...       ...             ...   \n",
       "2575        5           Vifon   \n",
       "2576        4         Wai Wai   \n",
       "2577        3         Wai Wai   \n",
       "2578        2         Wai Wai   \n",
       "2579        1        Westbrae   \n",
       "\n",
       "                                                Variety Style   Country  \\\n",
       "0                             T's Restaurant Tantanmen    Cup     Japan   \n",
       "1     Noodles Spicy Hot Sesame Spicy Hot Sesame Guan...  Pack    Taiwan   \n",
       "2                         Cup Noodles Chicken Vegetable   Cup       USA   \n",
       "3                         GGE Ramen Snack Tomato Flavor  Pack    Taiwan   \n",
       "4                                       Singapore Curry  Pack     India   \n",
       "...                                                 ...   ...       ...   \n",
       "2575  Hu Tiu Nam Vang [\"Phnom Penh\" style] Asian Sty...  Bowl   Vietnam   \n",
       "2576                     Oriental Style Instant Noodles  Pack  Thailand   \n",
       "2577                                     Tom Yum Shrimp  Pack  Thailand   \n",
       "2578                               Tom Yum Chili Flavor  Pack  Thailand   \n",
       "2579                                         Miso Ramen  Pack       USA   \n",
       "\n",
       "      Stars Top Ten  Style Type Int  \n",
       "0      3.75     nan               0  \n",
       "1      1.00     nan               3  \n",
       "2      2.25     nan               0  \n",
       "3      2.75     nan               3  \n",
       "4      3.75     nan               3  \n",
       "...     ...     ...             ...  \n",
       "2575   3.50     nan               2  \n",
       "2576   1.00     nan               3  \n",
       "2577   2.00     nan               3  \n",
       "2578   2.00     nan               3  \n",
       "2579   0.50     nan               3  \n",
       "\n",
       "[2573 rows x 8 columns]"
      ]
     },
     "execution_count": 459,
     "metadata": {},
     "output_type": "execute_result"
    }
   ],
   "source": [
    "\n",
    "#Making a new column, that shows the style as an int (key is shown below), so that we can calc corr\n",
    "\n",
    "styles_stars = dict()\n",
    "# iterate over unique style types\n",
    "for val in ramen_data_new['Style'].unique():\n",
    "    # get the subset of just this style type\n",
    "    sub = ramen_data_new[ramen_data_new['Style'] == val] \n",
    "    \n",
    "    avg_rev = np.mean(sub['Stars'])  # calc avg ratings\n",
    "    styles_stars[val] = round(avg_rev, 2) # save to dictionary, rounding to 2 decimals\n",
    "    \n",
    "# sort the dictionary by values (average stars)\n",
    "styles_stars_sorted = dict(sorted(styles_stars.items(), key=lambda item: item[1]))\n",
    "\n",
    "# Next, create a new dictionary {style : rating}\n",
    "# the keys will the categories from \"Style\" and the values will be our new labeling\n",
    "rank_order = dict((name, val) for val, name in enumerate(styles_stars_sorted.keys()))\n",
    "\n",
    "# Add this as a column to our dataframe\n",
    "# Using the dictionary to map 'Style' values\n",
    "ramen_data_new['Style Type Int'] = ramen_data_new['Style'].map(rank_order)\n",
    "\n",
    "print(\"Key for Style Type Int:\",rank_order) #in the Style Type Tnt column, showing what each int represents (certain style)\n",
    "# look at our dataframe\n",
    "ramen_data_new"
   ]
  },
  {
   "cell_type": "code",
   "execution_count": 460,
   "metadata": {},
   "outputs": [
    {
     "data": {
      "text/plain": [
       "Review #           object\n",
       "Brand              object\n",
       "Variety            object\n",
       "Style              object\n",
       "Country            object\n",
       "Stars             float64\n",
       "Top Ten            object\n",
       "Style Type Int      int64\n",
       "dtype: object"
      ]
     },
     "execution_count": 460,
     "metadata": {},
     "output_type": "execute_result"
    }
   ],
   "source": [
    "ramen_data_new.dtypes #checking data type of each variable to make sure Styles int and Stars are numeric (to use in future calculations)"
   ]
  },
  {
   "cell_type": "code",
   "execution_count": 461,
   "metadata": {},
   "outputs": [
    {
     "data": {
      "text/html": [
       "<div>\n",
       "<style scoped>\n",
       "    .dataframe tbody tr th:only-of-type {\n",
       "        vertical-align: middle;\n",
       "    }\n",
       "\n",
       "    .dataframe tbody tr th {\n",
       "        vertical-align: top;\n",
       "    }\n",
       "\n",
       "    .dataframe thead th {\n",
       "        text-align: right;\n",
       "    }\n",
       "</style>\n",
       "<table border=\"1\" class=\"dataframe\">\n",
       "  <thead>\n",
       "    <tr style=\"text-align: right;\">\n",
       "      <th></th>\n",
       "      <th>Stars</th>\n",
       "      <th>Style Type Int</th>\n",
       "    </tr>\n",
       "  </thead>\n",
       "  <tbody>\n",
       "    <tr>\n",
       "      <th>Stars</th>\n",
       "      <td>1.000000</td>\n",
       "      <td>0.077185</td>\n",
       "    </tr>\n",
       "    <tr>\n",
       "      <th>Style Type Int</th>\n",
       "      <td>0.077185</td>\n",
       "      <td>1.000000</td>\n",
       "    </tr>\n",
       "  </tbody>\n",
       "</table>\n",
       "</div>"
      ],
      "text/plain": [
       "                   Stars  Style Type Int\n",
       "Stars           1.000000        0.077185\n",
       "Style Type Int  0.077185        1.000000"
      ]
     },
     "execution_count": 461,
     "metadata": {},
     "output_type": "execute_result"
    }
   ],
   "source": [
    "corr = ramen_data_new.corr()\n",
    "corr #shows correlation between each pair of variables (table format)"
   ]
  },
  {
   "cell_type": "code",
   "execution_count": 462,
   "metadata": {},
   "outputs": [
    {
     "name": "stdout",
     "output_type": "stream",
     "text": [
      "The Correlation between Style and Stars is: 0.077\n"
     ]
    }
   ],
   "source": [
    "corr, pval = sp.pearsonr(ramen_data_new['Style Type Int'], ramen_data_new['Stars']) #calculated corr and p-val of variables Style (numeric version) and Stars in dataset\n",
    "print('The Correlation between Style and Stars is: {:.2}'.format(corr)) #prints out line stating correlation (2 sig figs) "
   ]
  },
  {
   "cell_type": "markdown",
   "metadata": {
    "deletable": false,
    "editable": false,
    "nbgrader": {
     "cell_type": "markdown",
     "checksum": "1291b915316657d89f93e7a1748c7ea0",
     "grade": false,
     "grade_id": "Q3",
     "locked": true,
     "points": 5,
     "schema_version": 3,
     "solution": false,
     "task": true
    }
   },
   "source": [
    "### Question 3\n",
    "\n",
    "Calculate a linear regression between one dependent variable from your dataset and at least one independent variable from your dataset (these can be the same variables as in Q2). "
   ]
  },
  {
   "cell_type": "code",
   "execution_count": 463,
   "metadata": {},
   "outputs": [
    {
     "data": {
      "text/html": [
       "<table class=\"simpletable\">\n",
       "<caption>OLS Regression Results</caption>\n",
       "<tr>\n",
       "  <th>Dep. Variable:</th>          <td>Stars</td>      <th>  R-squared:         </th> <td>   0.007</td>\n",
       "</tr>\n",
       "<tr>\n",
       "  <th>Model:</th>                   <td>OLS</td>       <th>  Adj. R-squared:    </th> <td>   0.005</td>\n",
       "</tr>\n",
       "<tr>\n",
       "  <th>Method:</th>             <td>Least Squares</td>  <th>  F-statistic:       </th> <td>   4.393</td>\n",
       "</tr>\n",
       "<tr>\n",
       "  <th>Date:</th>             <td>Wed, 05 May 2021</td> <th>  Prob (F-statistic):</th>  <td>0.00153</td>\n",
       "</tr>\n",
       "<tr>\n",
       "  <th>Time:</th>                 <td>03:19:09</td>     <th>  Log-Likelihood:    </th> <td> -3681.7</td>\n",
       "</tr>\n",
       "<tr>\n",
       "  <th>No. Observations:</th>      <td>  2573</td>      <th>  AIC:               </th> <td>   7373.</td>\n",
       "</tr>\n",
       "<tr>\n",
       "  <th>Df Residuals:</th>          <td>  2568</td>      <th>  BIC:               </th> <td>   7403.</td>\n",
       "</tr>\n",
       "<tr>\n",
       "  <th>Df Model:</th>              <td>     4</td>      <th>                     </th>     <td> </td>   \n",
       "</tr>\n",
       "<tr>\n",
       "  <th>Covariance Type:</th>      <td>nonrobust</td>    <th>                     </th>     <td> </td>   \n",
       "</tr>\n",
       "</table>\n",
       "<table class=\"simpletable\">\n",
       "<tr>\n",
       "        <td></td>           <th>coef</th>     <th>std err</th>      <th>t</th>      <th>P>|t|</th>  <th>[0.025</th>    <th>0.975]</th>  \n",
       "</tr>\n",
       "<tr>\n",
       "  <th>Intercept</th>     <td>    3.6707</td> <td>    0.046</td> <td>   79.470</td> <td> 0.000</td> <td>    3.580</td> <td>    3.761</td>\n",
       "</tr>\n",
       "<tr>\n",
       "  <th>Style[T.Box]</th>  <td>    0.6210</td> <td>    0.416</td> <td>    1.492</td> <td> 0.136</td> <td>   -0.195</td> <td>    1.437</td>\n",
       "</tr>\n",
       "<tr>\n",
       "  <th>Style[T.Cup]</th>  <td>   -0.1722</td> <td>    0.066</td> <td>   -2.592</td> <td> 0.010</td> <td>   -0.302</td> <td>   -0.042</td>\n",
       "</tr>\n",
       "<tr>\n",
       "  <th>Style[T.Pack]</th> <td>    0.0298</td> <td>    0.053</td> <td>    0.562</td> <td> 0.574</td> <td>   -0.074</td> <td>    0.134</td>\n",
       "</tr>\n",
       "<tr>\n",
       "  <th>Style[T.Tray]</th> <td>   -0.1255</td> <td>    0.108</td> <td>   -1.164</td> <td> 0.245</td> <td>   -0.337</td> <td>    0.086</td>\n",
       "</tr>\n",
       "</table>\n",
       "<table class=\"simpletable\">\n",
       "<tr>\n",
       "  <th>Omnibus:</th>       <td>451.503</td> <th>  Durbin-Watson:     </th> <td>   1.729</td> \n",
       "</tr>\n",
       "<tr>\n",
       "  <th>Prob(Omnibus):</th> <td> 0.000</td>  <th>  Jarque-Bera (JB):  </th> <td> 834.540</td> \n",
       "</tr>\n",
       "<tr>\n",
       "  <th>Skew:</th>          <td>-1.085</td>  <th>  Prob(JB):          </th> <td>6.05e-182</td>\n",
       "</tr>\n",
       "<tr>\n",
       "  <th>Kurtosis:</th>      <td> 4.754</td>  <th>  Cond. No.          </th> <td>    25.0</td> \n",
       "</tr>\n",
       "</table><br/><br/>Warnings:<br/>[1] Standard Errors assume that the covariance matrix of the errors is correctly specified."
      ],
      "text/plain": [
       "<class 'statsmodels.iolib.summary.Summary'>\n",
       "\"\"\"\n",
       "                            OLS Regression Results                            \n",
       "==============================================================================\n",
       "Dep. Variable:                  Stars   R-squared:                       0.007\n",
       "Model:                            OLS   Adj. R-squared:                  0.005\n",
       "Method:                 Least Squares   F-statistic:                     4.393\n",
       "Date:                Wed, 05 May 2021   Prob (F-statistic):            0.00153\n",
       "Time:                        03:19:09   Log-Likelihood:                -3681.7\n",
       "No. Observations:                2573   AIC:                             7373.\n",
       "Df Residuals:                    2568   BIC:                             7403.\n",
       "Df Model:                           4                                         \n",
       "Covariance Type:            nonrobust                                         \n",
       "=================================================================================\n",
       "                    coef    std err          t      P>|t|      [0.025      0.975]\n",
       "---------------------------------------------------------------------------------\n",
       "Intercept         3.6707      0.046     79.470      0.000       3.580       3.761\n",
       "Style[T.Box]      0.6210      0.416      1.492      0.136      -0.195       1.437\n",
       "Style[T.Cup]     -0.1722      0.066     -2.592      0.010      -0.302      -0.042\n",
       "Style[T.Pack]     0.0298      0.053      0.562      0.574      -0.074       0.134\n",
       "Style[T.Tray]    -0.1255      0.108     -1.164      0.245      -0.337       0.086\n",
       "==============================================================================\n",
       "Omnibus:                      451.503   Durbin-Watson:                   1.729\n",
       "Prob(Omnibus):                  0.000   Jarque-Bera (JB):              834.540\n",
       "Skew:                          -1.085   Prob(JB):                    6.05e-182\n",
       "Kurtosis:                       4.754   Cond. No.                         25.0\n",
       "==============================================================================\n",
       "\n",
       "Warnings:\n",
       "[1] Standard Errors assume that the covariance matrix of the errors is correctly specified.\n",
       "\"\"\""
      ]
     },
     "execution_count": 463,
     "metadata": {},
     "output_type": "execute_result"
    }
   ],
   "source": [
    "results = smf.ols('Stars ~ Style', data=ramen_data_new).fit() # estimate our OLS regression!\n",
    "results.summary()                                           # print the output!"
   ]
  },
  {
   "cell_type": "markdown",
   "metadata": {
    "deletable": false,
    "editable": false,
    "nbgrader": {
     "cell_type": "markdown",
     "checksum": "fad257c3c79a61a144862041ecc86b6c",
     "grade": false,
     "grade_id": "Q4",
     "locked": true,
     "points": 5,
     "schema_version": 3,
     "solution": false,
     "task": true
    }
   },
   "source": [
    "### Question 4\n",
    "\n",
    "Plot your data with your independent variable on the x-axis and the dependent variable on the y-axis. Plot a line indicating the fit of your regression. You may use built-in functions to calculate this line."
   ]
  },
  {
   "cell_type": "code",
   "execution_count": 464,
   "metadata": {},
   "outputs": [
    {
     "data": {
      "image/png": "[encoded data removed]",
      "text/plain": [
       "<Figure size 432x432 with 1 Axes>"
      ]
     },
     "metadata": {
      "needs_background": "light"
     },
     "output_type": "display_data"
    }
   ],
   "source": [
    "X = ramen_data_new['Style'] # observed x-values\n",
    "# calculate fit line:\n",
    "y_pred2 = results.predict(ramen_data_new['Style'])\n",
    "# Plot\n",
    "plt.figure(figsize=(6,6)) # make square!\n",
    "\n",
    "# plot data\n",
    "plt.plot(ramen_data_new['Style'], ramen_data_new['Stars'],\n",
    "        marker='o', lw=0, # no line, only markers\n",
    "        label = 'data')\n",
    "\n",
    "# plot fit line\n",
    "plt.plot(X, y_pred2,\n",
    "        label='fit (.predict())')\n",
    "\n",
    "# set the axes to have the same range\n",
    "plt.yticks(range(5))\n",
    "\n",
    "# label axes & title\n",
    "plt.xlabel('Style of Ramen (Container)')\n",
    "plt.ylabel('Rating of Ramen (out of 5.0)')\n",
    "\n",
    "plt.title(\"Association Between Style of Ramen and it's Rating\")\n",
    "plt.legend(loc='upper left')\n",
    "\n",
    "plt.show()"
   ]
  },
  {
   "cell_type": "markdown",
   "metadata": {
    "deletable": false,
    "editable": false,
    "nbgrader": {
     "cell_type": "markdown",
     "checksum": "bee8d5bd7b6621291ea2e7d60b076c3b",
     "grade": false,
     "grade_id": "Q5",
     "locked": true,
     "points": 5,
     "schema_version": 3,
     "solution": false,
     "task": true
    }
   },
   "source": [
    "### Question 5\n",
    "\n",
    "Interpret the results from Q3 and Q4. How does a change in the independent variable relate to a change in the dependent variable? Is that relationship significant? Are there omitted variables which may be biasing these results?"
   ]
  },
  {
   "cell_type": "markdown",
   "metadata": {},
   "source": [
    "There is no significant relationship between style of ramen and it's rating. A change in the independent variable does not necessarily mean there is a change in the dependent variable (for almost every pack of ramen, there is a range of ratings from 0 to 5). I omitted the bar and can observations which might show a certain preference for those types of ramen. Style of ramen is not a good predictor of the stars it gets"
   ]
  },
  {
   "cell_type": "markdown",
   "metadata": {
    "deletable": false,
    "editable": false,
    "nbgrader": {
     "cell_type": "markdown",
     "checksum": "b65b6c1e47fef79294a59405afd626d8",
     "grade": false,
     "grade_id": "Q6-9-overview",
     "locked": true,
     "schema_version": 3,
     "solution": false,
     "task": false
    }
   },
   "source": [
    "## Clustering\n",
    "\n",
    "*Questions 6 through 9 relate to k-means clustering.*"
   ]
  },
  {
   "cell_type": "markdown",
   "metadata": {
    "deletable": false,
    "editable": false,
    "nbgrader": {
     "cell_type": "markdown",
     "checksum": "47ea7645b5cda15b1958eb104d8618be",
     "grade": false,
     "grade_id": "Q6",
     "locked": true,
     "points": 5,
     "schema_version": 3,
     "solution": false,
     "task": true
    }
   },
   "source": [
    "### Question 6\n",
    "\n",
    "Use `sklearn` to write a function that calculates k-means clustering for an arbitrary value of k. Your function should return the fitted estimator."
   ]
  },
  {
   "cell_type": "code",
   "execution_count": 465,
   "metadata": {},
   "outputs": [],
   "source": [
    "def calc_kmeans(k, scaled_features):\n",
    "    kmeans = KMeans(n_clusters=k,random_state=42) # init k-means object\n",
    "    kmeans.fit(scaled_features)  # run k-means\n",
    "    return kmeans"
   ]
  },
  {
   "cell_type": "markdown",
   "metadata": {
    "deletable": false,
    "editable": false,
    "nbgrader": {
     "cell_type": "markdown",
     "checksum": "4e10ca806c0eeeae60e6085f6ef53af0",
     "grade": false,
     "grade_id": "Q7",
     "locked": true,
     "points": 5,
     "schema_version": 3,
     "solution": false,
     "task": true
    }
   },
   "source": [
    "### Question 7\n",
    "\n",
    "Plot the Sum of the Squared Error (SSE) for 1-10 clusters using the function you wrote in Q6. Use the “elbow method” to identify a number of clusters appropriate for your data. Be sure to scale your data before calculating the SSE."
   ]
  },
  {
   "cell_type": "code",
   "execution_count": 491,
   "metadata": {},
   "outputs": [
    {
     "data": {
      "image/png": "[encoded data removed]",
      "text/plain": [
       "<Figure size 864x432 with 1 Axes>"
      ]
     },
     "metadata": {
      "needs_background": "light"
     },
     "output_type": "display_data"
    }
   ],
   "source": [
    "# prepare data: choose 500 random rows\n",
    "idx = np.random.randint(len(ramen_data_new), size=500)\n",
    "X = ramen_data_new.loc[idx][['Style Type Int', 'Stars']].values\n",
    "# z-scores: (scaling data)\n",
    "scaler = StandardScaler() \n",
    "scaled_features = scaler.fit_transform(X)\n",
    "\n",
    "error = list()  # to save sse\n",
    "for clus in range(1,11): \n",
    "    kmeans = calc_kmeans(clus,scaled_features)\n",
    "    error.append(kmeans.inertia_) # save sum of squared error (SSE)\n",
    "# \"Elbow Method\" plot\n",
    "plt.figure(figsize=(12, 6))\n",
    "plt.plot(range(1, len(error)+1), error, color='black', linestyle='dashed', marker='o',\n",
    "         markerfacecolor='pink', markersize=10)\n",
    "#title, x-axis, y-axis labels\n",
    "plt.xticks(np.arange(0, 12, 1))\n",
    "plt.title('K-Means: Error Rate K Value')\n",
    "plt.xlabel('K Value')\n",
    "plt.ylabel('Squared Standard Error')\n",
    "plt.show()"
   ]
  },
  {
   "cell_type": "code",
   "execution_count": 492,
   "metadata": {},
   "outputs": [
    {
     "name": "stdout",
     "output_type": "stream",
     "text": [
      "Elbow method suggests 4 clusters are appropiate for my data.\n"
     ]
    }
   ],
   "source": [
    "#find where curve starts, or elbow score to find right amount of clusters\n",
    "kl = KneeLocator(range(1, 11), error, \n",
    "                 curve=\"convex\", direction=\"decreasing\")\n",
    "print(\"Elbow method suggests\", kl.elbow, \"clusters are appropiate for my data.\")"
   ]
  },
  {
   "cell_type": "markdown",
   "metadata": {
    "deletable": false,
    "editable": false,
    "nbgrader": {
     "cell_type": "markdown",
     "checksum": "f32f274890c253a75e5155db9604a9e0",
     "grade": false,
     "grade_id": "Q8",
     "locked": true,
     "points": 5,
     "schema_version": 3,
     "solution": false,
     "task": true
    }
   },
   "source": [
    "### Question 8\n",
    "\n",
    "Plot the Silhouette Coefficient for 2-10 clusters using the function you wrote in Q6. Be sure to scale your data before calculating the Silhouette Coefficient. How many clusters does this method suggest is optimal? NOTE: Depending on your data, Q7 and Q8 may not yield the same number of clusters."
   ]
  },
  {
   "cell_type": "code",
   "execution_count": 495,
   "metadata": {},
   "outputs": [
    {
     "data": {
      "image/png": "[encoded data removed]",
      "text/plain": [
       "<Figure size 864x432 with 1 Axes>"
      ]
     },
     "metadata": {
      "needs_background": "light"
     },
     "output_type": "display_data"
    }
   ],
   "source": [
    "silhouette = list() # silhouette score\n",
    "#sil. coef. for 2-10 clusters\n",
    "for clus in range(2,11):\n",
    "    kmeans = calc_kmeans(clus,scaled_features)\n",
    "    score = metrics.silhouette_score(scaled_features, kmeans.labels_) # calc silhouette score\n",
    "    silhouette.append(score) # save score\n",
    "\n",
    "# Silhouette score plot\n",
    "\n",
    "plt.figure(figsize=(12, 6))\n",
    "plt.plot(range(2, len(silhouette)+2), silhouette, color='black', linestyle='dashed', marker='o',\n",
    "         markerfacecolor='pink', markersize=10)\n",
    "#title, x avis, y axis labels\n",
    "plt.xticks(np.arange(0, 12, 1))\n",
    "plt.title('K-Means: Silhouette by K Value')\n",
    "plt.xlabel('K Value')\n",
    "plt.ylabel('Silhouette Score')\n",
    "plt.show()"
   ]
  },
  {
   "cell_type": "code",
   "execution_count": 501,
   "metadata": {},
   "outputs": [
    {
     "name": "stdout",
     "output_type": "stream",
     "text": [
      "5 clusters are appropiate for my data.\n"
     ]
    }
   ],
   "source": [
    "#use elbow method to find number of clusters to use for silhouette \n",
    "num_clus = 5\n",
    "print( num_clus, \"clusters are appropiate for my data.\")"
   ]
  },
  {
   "cell_type": "markdown",
   "metadata": {
    "deletable": false,
    "editable": false,
    "nbgrader": {
     "cell_type": "markdown",
     "checksum": "c53906164137a304497beb128cfa1351",
     "grade": false,
     "grade_id": "Q9",
     "locked": true,
     "points": 5,
     "schema_version": 3,
     "solution": false,
     "task": true
    }
   },
   "source": [
    "### Question 9\n",
    "\n",
    "Use your answers to Q7 & Q8 to select a reasonable value for k (must be at least 2). Calculate cluster assignments for each of your observations using your function from Q6. Use two variables from your dataset to plot your data in two dimensional space (ie, variable 1 x variable 2). Color code your data based on cluster assignments."
   ]
  },
  {
   "cell_type": "code",
   "execution_count": 500,
   "metadata": {},
   "outputs": [
    {
     "name": "stdout",
     "output_type": "stream",
     "text": [
      "Key: {'Cup': 0, 'Tray': 1, 'Bowl': 2, 'Pack': 3, 'Box': 4}\n"
     ]
    },
    {
     "data": {
      "image/png": "[encoded data removed]",
      "text/plain": [
       "<Figure size 432x288 with 1 Axes>"
      ]
     },
     "metadata": {
      "needs_background": "light"
     },
     "output_type": "display_data"
    }
   ],
   "source": [
    "kmeans = calc_kmeans(num_clus,scaled_features) #kmeans for 5 clusters\n",
    "# empty list to put seperated values\n",
    "x = list()\n",
    "y = list()\n",
    "cluster = list()\n",
    "\n",
    "# iterate over X and seperate values\n",
    "for i, (style, stars) in enumerate(X):\n",
    "    x.append(style)\n",
    "    y.append(stars)\n",
    "    cluster.append(kmeans.labels_[i]) # cluster assignment for this observation\n",
    "    \n",
    "# turn this all into a data frame\n",
    "clust_df = pd.DataFrame({'Style Type Int':x, 'Stars':y, 'Cluster':cluster})\n",
    "\n",
    "# plot clusters\n",
    "lst=[]\n",
    "# iterate over unique clusters\n",
    "for clust in clust_df['Cluster'].unique():\n",
    "    sub = clust_df[clust_df['Cluster'] == clust] # make subset with just this cluster\n",
    "    # plot it\n",
    "    plt.scatter(sub['Style Type Int'], sub['Stars'], label='Cluster {}'.format(clust))\n",
    "\n",
    "# title, x-axis, y-axis labels, legend\n",
    "plt.title('K-Means Clustering Assignments')\n",
    "plt.xlabel('Style Type (as int)') \n",
    "plt.ylabel('Stars')\n",
    "plt.legend(bbox_to_anchor=(1,1))\n",
    "print(\"Key:\",rank_order)\n",
    "plt.show()"
   ]
  },
  {
   "cell_type": "markdown",
   "metadata": {
    "deletable": false,
    "editable": false,
    "nbgrader": {
     "cell_type": "markdown",
     "checksum": "24b25ed2e290e6769106cd1316b041a0",
     "grade": false,
     "grade_id": "Q10-overview",
     "locked": true,
     "points": 5,
     "schema_version": 3,
     "solution": false,
     "task": true
    }
   },
   "source": [
    "## Conclusion\n",
    "\n",
    "*Question 10 can draw on any of the analyses done in Q1-Q9.*"
   ]
  },
  {
   "cell_type": "markdown",
   "metadata": {
    "deletable": false,
    "editable": false,
    "nbgrader": {
     "cell_type": "markdown",
     "checksum": "0dc461151db608cf7b577e055fefbf71",
     "grade": false,
     "grade_id": "Q10",
     "locked": true,
     "schema_version": 3,
     "solution": false,
     "task": false
    }
   },
   "source": [
    "### Question 10\n",
    "\n",
    "What did you learn from this dataset? Your answer may (but is not required to) address any of the following questions: Does a linear model appear to be a good fit for your data? Does your data appear to cluster in a meaningful way? What limitation do you see to this dataset? What additional analyses might be interesting (Describe, you don’t need to do these)? "
   ]
  },
  {
   "cell_type": "markdown",
   "metadata": {},
   "source": [
    "From this dataset, I learned that there is a weak correlation between ramen styles and stars (from the observations in the ramen dataset). Limitations in my dataset include the difference in number of observations for each ramen style. Some styles only had a few or 1 data point, and did not tell us anything about the relationship between the two variables. Our R^2 is 0.007, telling us that this linear model is probably not a good fit to the data. The clustering has no pattern to it, so it does not tell us much, either."
   ]
  }
 ],
 "metadata": {
  "kernelspec": {
   "display_name": "Python [conda env:dsua-111]",
   "language": "python",
   "name": "conda-env-dsua-111-py"
  },
  "language_info": {
   "codemirror_mode": {
    "name": "ipython",
    "version": 3
   },
   "file_extension": ".py",
   "mimetype": "text/x-python",
   "name": "python",
   "nbconvert_exporter": "python",
   "pygments_lexer": "ipython3",
   "version": "3.7.10"
  }
 },
 "nbformat": 4,
 "nbformat_minor": 4
}
