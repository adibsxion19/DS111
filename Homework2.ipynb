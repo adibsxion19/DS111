{
 "cells": [
  {
   "cell_type": "markdown",
   "metadata": {
    "deletable": false,
    "editable": false,
    "nbgrader": {
     "cell_type": "markdown",
     "checksum": "51bb52e425561385937c08b4445dde6a",
     "grade": false,
     "grade_id": "header",
     "locked": true,
     "schema_version": 3,
     "solution": false,
     "task": false
    }
   },
   "source": [
    "# <center>DS4E-S21: Homework 2</center> \n",
    "    \n",
    "    "
   ]
  },
  {
   "cell_type": "markdown",
   "metadata": {
    "deletable": false,
    "editable": false,
    "nbgrader": {
     "cell_type": "markdown",
     "checksum": "f152d5b13f3c3fe0d2cd75ee1f46c2af",
     "grade": false,
     "grade_id": "header-2",
     "locked": true,
     "schema_version": 3,
     "solution": false,
     "task": false
    }
   },
   "source": [
    "This homework is due on **Monday**, **March 8**, by **9a ET**. It is worth 34 points (one point per sub-question). Late homeworks, even by one minute, will be graded down with no exceptions. The course academic integrity policy applies to every homework, including this one. "
   ]
  },
  {
   "cell_type": "markdown",
   "metadata": {
    "deletable": false,
    "editable": false,
    "nbgrader": {
     "cell_type": "markdown",
     "checksum": "08c0b64508355b60fb4fd53d15ab9556",
     "grade": false,
     "grade_id": "instructions",
     "locked": true,
     "schema_version": 3,
     "solution": false,
     "task": false
    }
   },
   "source": [
    "# Instructions\n",
    "\n",
    "Please complete your answers in the cells provided and then submit this homework according to the same process as Homework 1. \n",
    "\n",
    "- For each **short answer** question, simply type your answer using \"Markdown\" formatting in the cell below each question. For all questions, you may provide brief answers. There is no need for complete sentences.\n",
    "- For each **coding** question, simply type and run your code in the cell provided. \n",
    "- For questions that require **both** code and a short answer, please use the first answer cell(s) for your code and then add an additional one to provide your answer in Markdown. \n",
    "\n",
    "Note: we will only provide one cell for all questions, but you can use as many as you need for your answers -- though for this homework it should rarely, if ever, be more than two total, including Markdown cells. Be sure also to **comment your code** in each code cell, or at least every 2-3 lines if you have more than that per cell (unlikely for this assignment!).\n",
    "\n",
    "Some questions refer to **external articles & resources**. You can find these by clicking the links provided. Some questions also refer to **external data**. You can find this data in the Homework 2 JupyterHub folder (the same folder where you found this homework).  \n",
    "\n",
    "Finally, be sure to save your work as you go!"
   ]
  },
  {
   "cell_type": "markdown",
   "metadata": {
    "deletable": false,
    "editable": false,
    "nbgrader": {
     "cell_type": "markdown",
     "checksum": "36359501aa7df66c64e741f98cbf70e0",
     "grade": false,
     "grade_id": "q1",
     "locked": true,
     "schema_version": 3,
     "solution": false,
     "task": false
    }
   },
   "source": [
    "# Question 1: Measuring trust in government\n",
    "\n",
    "The below questions refer to the data and research described in this article, \"[Public Trust in Government 1958-2019](https://www.pewresearch.org/politics/2019/04/11/public-trust-in-government-1958-2019/)\" from the Pew Research Center."
   ]
  },
  {
   "cell_type": "markdown",
   "metadata": {
    "deletable": false,
    "editable": false,
    "nbgrader": {
     "cell_type": "markdown",
     "checksum": "50092387b1f683456943d279c8f8b1b4",
     "grade": false,
     "grade_id": "1a",
     "locked": true,
     "points": 1,
     "schema_version": 3,
     "solution": false,
     "task": true
    }
   },
   "source": [
    "**(a) How is \"trust in government\" *conceptualized* according to the first paragraph and visualization in the article?**"
   ]
  },
  {
   "cell_type": "markdown",
   "metadata": {},
   "source": [
    "Americans believing the government will do the right thing almost always or most of the time."
   ]
  },
  {
   "cell_type": "markdown",
   "metadata": {
    "deletable": false,
    "editable": false,
    "nbgrader": {
     "cell_type": "markdown",
     "checksum": "667bdd7c3fde17174d18850d56043f3a",
     "grade": false,
     "grade_id": "1b",
     "locked": true,
     "points": 1,
     "schema_version": 3,
     "solution": false,
     "task": true
    }
   },
   "source": [
    "**(b) What is one strength of this conceptualization? Briefly explain your answer.**"
   ]
  },
  {
   "cell_type": "markdown",
   "metadata": {},
   "source": [
    "This conceptualization is specific to Americans. This means that the focus on the research is the American government only and we get viewpoints of people judging the same government and the same actions/policies. "
   ]
  },
  {
   "cell_type": "markdown",
   "metadata": {
    "deletable": false,
    "editable": false,
    "nbgrader": {
     "cell_type": "markdown",
     "checksum": "713f7d68aee33eee59f58bbd09ed338d",
     "grade": false,
     "grade_id": "1c",
     "locked": true,
     "points": 1,
     "schema_version": 3,
     "solution": false,
     "task": true
    }
   },
   "source": [
    "**(c) What is one weakness of this conceptualization? Briefly explain your answer.**"
   ]
  },
  {
   "cell_type": "markdown",
   "metadata": {},
   "source": [
    "The \"right thing\" is subjective and different people have different meanings of it. People have different political opinions, so while someone might think of a government's action as right, another person might not."
   ]
  },
  {
   "cell_type": "markdown",
   "metadata": {
    "deletable": false,
    "editable": false,
    "nbgrader": {
     "cell_type": "markdown",
     "checksum": "b60da6c1f020f5dbaed3e59d9db931be",
     "grade": false,
     "grade_id": "1d",
     "locked": true,
     "points": 1,
     "schema_version": 3,
     "solution": false,
     "task": true
    }
   },
   "source": [
    "**(d) The article itself is not clear about how \"trust in government\" is *operationalized* (which we as data scientists know is not a great practice!). But, operationalization is \"trust in government\" is explained in a longer report accompanying the article, which you can find [here](https://www.pewresearch.org/politics/wp-content/uploads/sites/4/2017/05/05-03-17-Trust-release.pdf). Based on this report, how is \"trust in government\" operationalized?** \n",
    "\n",
    "*Note: You don't need to write out every detail, just a short summary of what was done is fine!*"
   ]
  },
  {
   "cell_type": "markdown",
   "metadata": {},
   "source": [
    "A national survey taken April 5-11,2017, surveying 1,501 adults (18 years or older) from all 50 states and DC. Of the people interviewed (in either English or Spanish), 375 were through landline telephone, 1126 through cellphone, including 698 without a landline telephone. Landline responders were selected by randomly asking for the youngest person at home, while 18+ year olds cellphone responders were selected. They were asked about their level of frustration with the federal government, confidence in US's future, and trust in government to do the right thing always/ most of the time. Their political affiliation, gender, age, educational level where all weighted with data from the census."
   ]
  },
  {
   "cell_type": "markdown",
   "metadata": {
    "deletable": false,
    "editable": false,
    "nbgrader": {
     "cell_type": "markdown",
     "checksum": "2f4d8b671acd82d52100d763e0440881",
     "grade": false,
     "grade_id": "1e",
     "locked": true,
     "points": 1,
     "schema_version": 3,
     "solution": false,
     "task": true
    }
   },
   "source": [
    "**(e) What is one strength of this operationalization? Briefly explain your answer.**"
   ]
  },
  {
   "cell_type": "markdown",
   "metadata": {},
   "source": [
    "This operationalization is very specific in what information they are gathering and how they are gathering it. It tells us about how many people were in the sample and how it was collected (through landline or cellphone) and what questions were asked."
   ]
  },
  {
   "cell_type": "markdown",
   "metadata": {
    "deletable": false,
    "editable": false,
    "nbgrader": {
     "cell_type": "markdown",
     "checksum": "697b1b21b17945b7372a218915d658a8",
     "grade": false,
     "grade_id": "1f",
     "locked": true,
     "points": 1,
     "schema_version": 3,
     "solution": false,
     "task": true
    }
   },
   "source": [
    "**(f) What is one weakness of this operationalization? Briefly explain your answer.**"
   ]
  },
  {
   "cell_type": "markdown",
   "metadata": {},
   "source": [
    "This sample does not take the opinions of people who don't speak English or Spanish into account. This introduces errors of exclusion, because America is a diverse country with people who speaks many different languages, and while they might still have strong opinions about the government, they are not considered in this study."
   ]
  },
  {
   "cell_type": "markdown",
   "metadata": {
    "deletable": false,
    "editable": false,
    "nbgrader": {
     "cell_type": "markdown",
     "checksum": "fed1a37aa1c5a4e314a937b08c1c3c33",
     "grade": false,
     "grade_id": "2",
     "locked": true,
     "schema_version": 3,
     "solution": false,
     "task": false
    }
   },
   "source": [
    "# Question 2: Sequences of data\n",
    "\n",
    "For this question we will use some example data from the [original article](https://www.pewresearch.org/politics/2019/04/11/public-trust-in-government-1958-2019/) from Question 1. This time, we will consider the data behind the **second** visualization, which you can see by clicking on the \"data\" tab at the top of the visualization titled \"Trust in govt higher among members of party that controls presidency.\" \n",
    "\n",
    "*Note: If you can't find the data, don't worry! We're just sharing it in case you're interested! We will provide you with all the data you need in this homework.*\n",
    "\n",
    "For this question, we will only consider the most recent five observations, which reflect the five most recent studies Pew has conducted on this topic. Specifically, suppose we have the following mini dataset:\n",
    "\n",
    "* Percentage of **Republicans** who say they trust the government in Washington always or most of the time: 11, 11, 28, 22, 21\n",
    "* Percentage of **Democrats** who say they trust the government in Washington always or most of the time: 17, 26, 15, 15, 4\n",
    "\n",
    "Each number refers to (approx.) each year between 2014 through 2019. So, for example, in 2014, 11% of Republicans said they trust the government in Washington always or most of the time, and 17% of Democrats said they trust the government in Washington always or most of the time. Note the researchers also seem to have skipped 2018. Welcome to the wide, wonderful world of messy data!"
   ]
  },
  {
   "cell_type": "markdown",
   "metadata": {
    "deletable": false,
    "editable": false,
    "nbgrader": {
     "cell_type": "markdown",
     "checksum": "5a8dcb81e9b8288af2284126754ea916",
     "grade": false,
     "grade_id": "2a",
     "locked": true,
     "points": 1,
     "schema_version": 3,
     "solution": false,
     "task": true
    }
   },
   "source": [
    "<b>(a) Create two NumPy arrays, one for Republicans and one for Democrats, that each contain the values above, in the order we provided them. Name these arrays `rep_trust` and `dem_trust`, respectively.</b> "
   ]
  },
  {
   "cell_type": "code",
   "execution_count": 1,
   "metadata": {},
   "outputs": [],
   "source": [
    "import numpy as np #imports numpy library, sets it as variable np\n",
    "#creates numpy arrays of values (given above) and stores it in corresponding variable(rep_trust, dem_trust)\n",
    "rep_trust = np.array([11,11,28,22,21]) \n",
    "dem_trust = np.array([17,26,15,15,4])"
   ]
  },
  {
   "cell_type": "markdown",
   "metadata": {
    "deletable": false,
    "editable": false,
    "nbgrader": {
     "cell_type": "markdown",
     "checksum": "c46287011b860f91deb599241a0a5d6c",
     "grade": false,
     "grade_id": "2b",
     "locked": true,
     "points": 1,
     "schema_version": 3,
     "solution": false,
     "task": true
    }
   },
   "source": [
    "<b>(b) Write code to show that both arrays you created are of type array.</b> "
   ]
  },
  {
   "cell_type": "code",
   "execution_count": 2,
   "metadata": {},
   "outputs": [
    {
     "data": {
      "text/plain": [
       "numpy.ndarray"
      ]
     },
     "execution_count": 2,
     "metadata": {},
     "output_type": "execute_result"
    }
   ],
   "source": [
    "type(rep_trust) #calls built-in function type on rep_trust to find what datatype is stored in rep_trust"
   ]
  },
  {
   "cell_type": "code",
   "execution_count": 3,
   "metadata": {},
   "outputs": [
    {
     "data": {
      "text/plain": [
       "numpy.ndarray"
      ]
     },
     "execution_count": 3,
     "metadata": {},
     "output_type": "execute_result"
    }
   ],
   "source": [
    "type(dem_trust) #finds what datatype is stored in dem_trust"
   ]
  },
  {
   "cell_type": "markdown",
   "metadata": {
    "deletable": false,
    "editable": false,
    "nbgrader": {
     "cell_type": "markdown",
     "checksum": "117b7a5228f3e92528685820f3cdb07e",
     "grade": false,
     "grade_id": "2c",
     "locked": true,
     "points": 1,
     "schema_version": 3,
     "solution": false,
     "task": true
    }
   },
   "source": [
    "<b>(c)  Make use of the built-in function `sum` to calculate the mean of your array of `rep_trust` prices and store the result as a variable called `rep_trust_mean`. Do all of this in one line of code.</b> "
   ]
  },
  {
   "cell_type": "code",
   "execution_count": 4,
   "metadata": {},
   "outputs": [],
   "source": [
    "rep_trust_mean = sum(rep_trust)/5 #sums the values in the array stored in rep_trust, divides them by number of values, 5"
   ]
  },
  {
   "cell_type": "markdown",
   "metadata": {
    "deletable": false,
    "editable": false,
    "nbgrader": {
     "cell_type": "markdown",
     "checksum": "c98a1613d38e622f3a7236ec5a716204",
     "grade": false,
     "grade_id": "2d",
     "locked": true,
     "points": 1,
     "schema_version": 3,
     "solution": false,
     "task": true
    }
   },
   "source": [
    "<b>(d)  Import the \"mean\" module from the statistics package (don't rename it as anything). Use it to calculate the mean of `dem_trust`. Store these results as a variable called `dem_trust_mean`. Do this in no more than two lines of code.</b>"
   ]
  },
  {
   "cell_type": "code",
   "execution_count": 5,
   "metadata": {},
   "outputs": [],
   "source": [
    "from statistics import mean #imports mean function from statistics library\n",
    "dem_trust_mean = mean(dem_trust) #finds mean of data stored in dem_trust + stores it in dem_trust_mean"
   ]
  },
  {
   "cell_type": "markdown",
   "metadata": {
    "deletable": false,
    "editable": false,
    "nbgrader": {
     "cell_type": "markdown",
     "checksum": "4188208a0706fbf43296392156fe3741",
     "grade": false,
     "grade_id": "2e",
     "locked": true,
     "points": 1,
     "schema_version": 3,
     "solution": false,
     "task": true
    }
   },
   "source": [
    "<b>(e) Write one line of code to find out the data type of `rep_trust_mean`.</b> "
   ]
  },
  {
   "cell_type": "code",
   "execution_count": 6,
   "metadata": {},
   "outputs": [
    {
     "data": {
      "text/plain": [
       "numpy.float64"
      ]
     },
     "execution_count": 6,
     "metadata": {},
     "output_type": "execute_result"
    }
   ],
   "source": [
    "type(rep_trust_mean) #finds data type of what's stored in rep_trust_mean"
   ]
  },
  {
   "cell_type": "markdown",
   "metadata": {
    "deletable": false,
    "editable": false,
    "nbgrader": {
     "cell_type": "markdown",
     "checksum": "c325077ec6a48678d09e9b5c14e08842",
     "grade": false,
     "grade_id": "2f",
     "locked": true,
     "points": 1,
     "schema_version": 3,
     "solution": false,
     "task": true
    }
   },
   "source": [
    "<b>(f) Write an expression that evaluates whether `rep_trust_mean` is greater than `dem_trust_mean`. Store this expression as a variable called `means_compare`.</b> \n"
   ]
  },
  {
   "cell_type": "code",
   "execution_count": 7,
   "metadata": {},
   "outputs": [
    {
     "data": {
      "text/plain": [
       "True"
      ]
     },
     "execution_count": 7,
     "metadata": {},
     "output_type": "execute_result"
    }
   ],
   "source": [
    "means_compare = rep_trust_mean > dem_trust_mean #stores the comparison of if rep_trust_mean is great than dem_trust_mean to the variable means_compare\n",
    "means_compare"
   ]
  },
  {
   "cell_type": "markdown",
   "metadata": {
    "deletable": false,
    "editable": false,
    "nbgrader": {
     "cell_type": "markdown",
     "checksum": "5c0e0fd1c4377d62dcf82ca94c07d73b",
     "grade": false,
     "grade_id": "2g",
     "locked": true,
     "points": 1,
     "schema_version": 3,
     "solution": false,
     "task": true
    }
   },
   "source": [
    "**(g) What is the data type of `means_compare`? Why?** \n",
    "\n",
    "*Feel free to check the type in a cell above, but you don't need to turn in that work.*"
   ]
  },
  {
   "cell_type": "markdown",
   "metadata": {},
   "source": [
    "It is a boolean. This is because when comparing the two means, I am checking to see if the rep_trust_mean is greater than dem_trust_mean with the > sign. This condition stored True in means_compare is the condition is true (rep_trust_mean > dem_trust_mean) or False if it's false, which is a boolean."
   ]
  },
  {
   "cell_type": "markdown",
   "metadata": {
    "deletable": false,
    "editable": false,
    "nbgrader": {
     "cell_type": "markdown",
     "checksum": "91c45c1d80ed6907b1c5301525d37699",
     "grade": false,
     "grade_id": "2h",
     "locked": true,
     "points": 1,
     "schema_version": 3,
     "solution": false,
     "task": true
    }
   },
   "source": [
    "<b>(h) What is one conclusion about the real world can you draw based on your result in Question 2(f)?"
   ]
  },
  {
   "cell_type": "markdown",
   "metadata": {},
   "source": [
    "On average, a higher percentage of republicans may have had trust in the government in Washington always or most of the time during the years of 2014-2019 (excluding 2018)."
   ]
  },
  {
   "cell_type": "markdown",
   "metadata": {
    "deletable": false,
    "editable": false,
    "nbgrader": {
     "cell_type": "markdown",
     "checksum": "1f30167ea7985898336a5bbfd8cfe6b2",
     "grade": false,
     "grade_id": "3",
     "locked": true,
     "schema_version": 3,
     "solution": false,
     "task": false
    }
   },
   "source": [
    "# Question 3: Your own study\n",
    "\n",
    "Please answer the below questions based on the following scenario:\n",
    "\n",
    "You decide to conduct your own study to understand the extent to which people living in New York City trust the national government in Washington, DC. To collect data, you go to Washington Square Park and ask people who are sitting there if they'd like to take a short, anonymous survey about trust in government. \n",
    "    \n",
    "If they agree to participate, you ask them: \"How confident are you that the government in DC will act in your best interest?\" The possible answers are: Very confident, somewhat confident, not very confident, not at all confident, or prefer not to say.\n",
    "    \n",
    "You go around asking this question to strangers until you have 50 responses."
   ]
  },
  {
   "cell_type": "markdown",
   "metadata": {
    "deletable": false,
    "editable": false,
    "nbgrader": {
     "cell_type": "markdown",
     "checksum": "f40a1eb6c4d5f607f65e804349bfd665",
     "grade": false,
     "grade_id": "3a",
     "locked": true,
     "points": 1,
     "schema_version": 3,
     "solution": false,
     "task": true
    }
   },
   "source": [
    "<b> (a) In this study, how are you conceptualizing \"trust in government\"?</b> "
   ]
  },
  {
   "cell_type": "markdown",
   "metadata": {},
   "source": [
    "I am conceptualizing trust in government as how confident people in NYC are that the government in DC will act in their best interest."
   ]
  },
  {
   "cell_type": "markdown",
   "metadata": {
    "deletable": false,
    "editable": false,
    "nbgrader": {
     "cell_type": "markdown",
     "checksum": "9863d1f7103dc239f5551e0533c8120a",
     "grade": false,
     "grade_id": "3b",
     "locked": true,
     "points": 1,
     "schema_version": 3,
     "solution": false,
     "task": true
    }
   },
   "source": [
    "<b>(b) How are you operationalizing \"trust in government\"?</b> \n"
   ]
  },
  {
   "cell_type": "markdown",
   "metadata": {},
   "source": [
    "I am surveying people in Washington Square Park, asking them to answer Very confident, somewhat confident, not very confident, not at all confident, or prefer not to say to the question \"How confident are you that the government in DC will act in your best interest?\" I am collecting 50 anonymous surveys."
   ]
  },
  {
   "cell_type": "markdown",
   "metadata": {
    "deletable": false,
    "editable": false,
    "nbgrader": {
     "cell_type": "markdown",
     "checksum": "ef65662cbe4b3174c362a1e125ee40c1",
     "grade": false,
     "grade_id": "3c",
     "locked": true,
     "points": 1,
     "schema_version": 3,
     "solution": false,
     "task": true
    }
   },
   "source": [
    "**(c) What is a possible source of random error, and why is it random?** "
   ]
  },
  {
   "cell_type": "markdown",
   "metadata": {},
   "source": [
    "A random error would be if I mishear some people's answers and record the wrong answer. It's random because it's a mistake on my part during the collection of data, and with a big enough sample, this one mistake would cancel out/not affect my data greatly."
   ]
  },
  {
   "cell_type": "markdown",
   "metadata": {
    "deletable": false,
    "editable": false,
    "nbgrader": {
     "cell_type": "markdown",
     "checksum": "273b64bd3065f4d835ddae641af13641",
     "grade": false,
     "grade_id": "3d",
     "locked": true,
     "points": 1,
     "schema_version": 3,
     "solution": false,
     "task": true
    }
   },
   "source": [
    "**(d) What is a possible source of a systematic error, or selection bias, and in what direction would it bias your results?** "
   ]
  },
  {
   "cell_type": "markdown",
   "metadata": {},
   "source": [
    "Since I take my surveys at Washington Square Park, my results would come from people who are more likely to be at Washington Square Park, such as NYU students, people who live in or travel to Manhattan. Our results would not be representative of the entire NYC population, but rather biased towards certain groups of people."
   ]
  },
  {
   "cell_type": "markdown",
   "metadata": {
    "deletable": false,
    "editable": false,
    "nbgrader": {
     "cell_type": "markdown",
     "checksum": "2b5bb8a26ee2d73f213014f8e83482d6",
     "grade": false,
     "grade_id": "3e",
     "locked": true,
     "points": 1,
     "schema_version": 3,
     "solution": false,
     "task": true
    }
   },
   "source": [
    "<b> (e) Another data scientist points out that while you think you're measuring trust in government, the way you've worded your question means you might instead be picking up something more like optimism about government. This data scientist is raising the possibility of what kind of error? Briefly explain your answer.</b> "
   ]
  },
  {
   "cell_type": "markdown",
   "metadata": {},
   "source": [
    "They are raising the possibility of an error of validity. While my goal is to measure trust in government, I might be measuring optimism in government instead. My question phrasing might not be valid for measuring trust in government and instead, I might be picking up something else, which is an error of validity."
   ]
  },
  {
   "cell_type": "markdown",
   "metadata": {
    "deletable": false,
    "editable": false,
    "nbgrader": {
     "cell_type": "markdown",
     "checksum": "5b3b3510f9a9788514f2339048e8bb58",
     "grade": false,
     "grade_id": "3f",
     "locked": true,
     "points": 1,
     "schema_version": 3,
     "solution": false,
     "task": true
    }
   },
   "source": [
    "**(f) Suppose you import your results as a table into your Python program. You import the specific answers people gave, such as \"very confident\" or \"somewhat confident\" into your column named \"responses\".  As what type of data would this data be stored as by default in Python, and why?** "
   ]
  },
  {
   "cell_type": "markdown",
   "metadata": {},
   "source": [
    "This would be stored as a string because it is text/words written in quotation marks."
   ]
  },
  {
   "cell_type": "markdown",
   "metadata": {
    "deletable": false,
    "editable": false,
    "nbgrader": {
     "cell_type": "markdown",
     "checksum": "778f59502f312d8377227c96ac150e3e",
     "grade": false,
     "grade_id": "q4",
     "locked": true,
     "schema_version": 3,
     "solution": false,
     "task": false
    }
   },
   "source": [
    "# Question 4: Importing data\n",
    "\n",
    "Hooray! It's time to finally work with an actual dataset. Our data will come from the article linked in Question 1. The questions that follow refer to the data file \"trust.csv\", which is in this Homework 2 folder (where this assignment also is) on JupyterHub. This data reflects all the data in the second visualization (\"Trust in govt higher among members of party that controls presidency\"), the top five observations of which which we discussed in Question 2. "
   ]
  },
  {
   "cell_type": "markdown",
   "metadata": {
    "deletable": false,
    "editable": false,
    "nbgrader": {
     "cell_type": "markdown",
     "checksum": "65a64575288760bac2a78f2fb2cd5ffc",
     "grade": false,
     "grade_id": "4a",
     "locked": true,
     "points": 1,
     "schema_version": 3,
     "solution": false,
     "task": true
    }
   },
   "source": [
    "**(a) Import the dataset as a pandas dataframe, name it `data`, and show the first five rows.** "
   ]
  },
  {
   "cell_type": "code",
   "execution_count": 8,
   "metadata": {
    "scrolled": true
   },
   "outputs": [
    {
     "data": {
      "text/html": [
       "<div>\n",
       "<style scoped>\n",
       "    .dataframe tbody tr th:only-of-type {\n",
       "        vertical-align: middle;\n",
       "    }\n",
       "\n",
       "    .dataframe tbody tr th {\n",
       "        vertical-align: top;\n",
       "    }\n",
       "\n",
       "    .dataframe thead th {\n",
       "        text-align: right;\n",
       "    }\n",
       "</style>\n",
       "<table border=\"1\" class=\"dataframe\">\n",
       "  <thead>\n",
       "    <tr style=\"text-align: right;\">\n",
       "      <th></th>\n",
       "      <th>date</th>\n",
       "      <th>source</th>\n",
       "      <th>No Partisan Affiliation</th>\n",
       "      <th>Republican</th>\n",
       "      <th>Democrat</th>\n",
       "    </tr>\n",
       "  </thead>\n",
       "  <tbody>\n",
       "    <tr>\n",
       "      <th>0</th>\n",
       "      <td>3/25/19</td>\n",
       "      <td>PEW</td>\n",
       "      <td>22</td>\n",
       "      <td>21</td>\n",
       "      <td>14</td>\n",
       "    </tr>\n",
       "    <tr>\n",
       "      <th>1</th>\n",
       "      <td>12/4/17</td>\n",
       "      <td>PEW</td>\n",
       "      <td>15</td>\n",
       "      <td>22</td>\n",
       "      <td>15</td>\n",
       "    </tr>\n",
       "    <tr>\n",
       "      <th>2</th>\n",
       "      <td>4/11/17</td>\n",
       "      <td>PEW</td>\n",
       "      <td>12</td>\n",
       "      <td>28</td>\n",
       "      <td>15</td>\n",
       "    </tr>\n",
       "    <tr>\n",
       "      <th>3</th>\n",
       "      <td>10/4/15</td>\n",
       "      <td>PEW</td>\n",
       "      <td>16</td>\n",
       "      <td>11</td>\n",
       "      <td>26</td>\n",
       "    </tr>\n",
       "    <tr>\n",
       "      <th>4</th>\n",
       "      <td>7/20/14</td>\n",
       "      <td>CNN</td>\n",
       "      <td>8</td>\n",
       "      <td>11</td>\n",
       "      <td>17</td>\n",
       "    </tr>\n",
       "  </tbody>\n",
       "</table>\n",
       "</div>"
      ],
      "text/plain": [
       "      date source  No Partisan Affiliation  Republican  Democrat\n",
       "0  3/25/19    PEW                       22          21        14\n",
       "1  12/4/17    PEW                       15          22        15\n",
       "2  4/11/17    PEW                       12          28        15\n",
       "3  10/4/15    PEW                       16          11        26\n",
       "4  7/20/14    CNN                        8          11        17"
      ]
     },
     "execution_count": 8,
     "metadata": {},
     "output_type": "execute_result"
    }
   ],
   "source": [
    "import pandas as pd #imports pandas library, sets it as pd\n",
    "data = pd.read_csv('trust.csv') #imports dataset\n",
    "data.head() #shows first 5 rows"
   ]
  },
  {
   "cell_type": "markdown",
   "metadata": {
    "deletable": false,
    "editable": false,
    "nbgrader": {
     "cell_type": "markdown",
     "checksum": "b0ba4fd96abdfc22e854d42b1282ef79",
     "grade": false,
     "grade_id": "4b",
     "locked": true,
     "points": 1,
     "schema_version": 3,
     "solution": false,
     "task": true
    }
   },
   "source": [
    "**(b) How many observations and variables are there in this dataset? Write one line of code to find out, and then explain the answer in a Markdown cell below your code cell.** "
   ]
  },
  {
   "cell_type": "code",
   "execution_count": 9,
   "metadata": {},
   "outputs": [
    {
     "data": {
      "text/plain": [
       "(147, 5)"
      ]
     },
     "execution_count": 9,
     "metadata": {},
     "output_type": "execute_result"
    }
   ],
   "source": [
    "data.shape #shows (rows, columns)"
   ]
  },
  {
   "cell_type": "markdown",
   "metadata": {},
   "source": [
    "data.shape shows (rows, columns) of the dataset stored in the variable data. Rows are observations so there are 147 observations and columns are variables so there are 5 variables."
   ]
  },
  {
   "cell_type": "markdown",
   "metadata": {
    "deletable": false,
    "editable": false,
    "nbgrader": {
     "cell_type": "markdown",
     "checksum": "6f36aa1032006d02885e0c228787277c",
     "grade": false,
     "grade_id": "4c",
     "locked": true,
     "points": 1,
     "schema_version": 3,
     "solution": false,
     "task": true
    }
   },
   "source": [
    "**(c) Whenever we import a new dataset, one of the first things we usually like to do is rename the variables so they are easy to refer to in our program. Rename the variables as follows: `No Partisan Affiliation` as `non_partisan`, `Republican` as `rep`, and `Democrat` as `dem`. Do so using just one command used one time.** "
   ]
  },
  {
   "cell_type": "code",
   "execution_count": 10,
   "metadata": {},
   "outputs": [],
   "source": [
    "data.rename(columns={'No Partisan Affiliation': 'non_partisan', 'Republican': 'rep', 'Democrat':'dem'}, inplace = True) #replaces the name of variables 'No Partisan Affiliation' to 'non_partisan', 'Republican' as 'rep', and 'Democrat' as 'dem'"
   ]
  },
  {
   "cell_type": "markdown",
   "metadata": {
    "deletable": false,
    "editable": false,
    "nbgrader": {
     "cell_type": "markdown",
     "checksum": "7b00126c0388f3385b55f30c26b8fffd",
     "grade": false,
     "grade_id": "4d",
     "locked": true,
     "points": 1,
     "schema_version": 3,
     "solution": false,
     "task": true
    }
   },
   "source": [
    "**(d) What *variable* (not data) type is the variable `source`?** "
   ]
  },
  {
   "cell_type": "markdown",
   "metadata": {},
   "source": [
    "Categorical (specifically nominal)"
   ]
  },
  {
   "cell_type": "markdown",
   "metadata": {
    "deletable": false,
    "editable": false,
    "nbgrader": {
     "cell_type": "markdown",
     "checksum": "a8fe3666693a08fe9389c00b4d7ca90d",
     "grade": false,
     "grade_id": "4e",
     "locked": true,
     "points": 1,
     "schema_version": 3,
     "solution": false,
     "task": true
    },
    "slideshow": {
     "slide_type": "slide"
    }
   },
   "source": [
    "**(e) Find the highest Republican level of trust in government by sorting the data so this observation is on top. What is this level, and in what year was it observed?** "
   ]
  },
  {
   "cell_type": "code",
   "execution_count": 11,
   "metadata": {},
   "outputs": [
    {
     "data": {
      "text/html": [
       "<div>\n",
       "<style scoped>\n",
       "    .dataframe tbody tr th:only-of-type {\n",
       "        vertical-align: middle;\n",
       "    }\n",
       "\n",
       "    .dataframe tbody tr th {\n",
       "        vertical-align: top;\n",
       "    }\n",
       "\n",
       "    .dataframe thead th {\n",
       "        text-align: right;\n",
       "    }\n",
       "</style>\n",
       "<table border=\"1\" class=\"dataframe\">\n",
       "  <thead>\n",
       "    <tr style=\"text-align: right;\">\n",
       "      <th></th>\n",
       "      <th>date</th>\n",
       "      <th>source</th>\n",
       "      <th>non_partisan</th>\n",
       "      <th>rep</th>\n",
       "      <th>dem</th>\n",
       "    </tr>\n",
       "  </thead>\n",
       "  <tbody>\n",
       "    <tr>\n",
       "      <th>146</th>\n",
       "      <td>12/1/58</td>\n",
       "      <td>NES</td>\n",
       "      <td>71</td>\n",
       "      <td>79</td>\n",
       "      <td>71</td>\n",
       "    </tr>\n",
       "    <tr>\n",
       "      <th>145</th>\n",
       "      <td>10/15/64</td>\n",
       "      <td>NES</td>\n",
       "      <td>74</td>\n",
       "      <td>73</td>\n",
       "      <td>80</td>\n",
       "    </tr>\n",
       "    <tr>\n",
       "      <th>54</th>\n",
       "      <td>10/25/01</td>\n",
       "      <td>CBS/NYT</td>\n",
       "      <td>50</td>\n",
       "      <td>70</td>\n",
       "      <td>47</td>\n",
       "    </tr>\n",
       "    <tr>\n",
       "      <th>55</th>\n",
       "      <td>10/6/01</td>\n",
       "      <td>GALLUP</td>\n",
       "      <td>53</td>\n",
       "      <td>68</td>\n",
       "      <td>52</td>\n",
       "    </tr>\n",
       "    <tr>\n",
       "      <th>119</th>\n",
       "      <td>11/30/86</td>\n",
       "      <td>CBS/NYT</td>\n",
       "      <td>54</td>\n",
       "      <td>63</td>\n",
       "      <td>37</td>\n",
       "    </tr>\n",
       "    <tr>\n",
       "      <th>...</th>\n",
       "      <td>...</td>\n",
       "      <td>...</td>\n",
       "      <td>...</td>\n",
       "      <td>...</td>\n",
       "      <td>...</td>\n",
       "    </tr>\n",
       "    <tr>\n",
       "      <th>12</th>\n",
       "      <td>10/19/11</td>\n",
       "      <td>CBS/NYT</td>\n",
       "      <td>10</td>\n",
       "      <td>8</td>\n",
       "      <td>13</td>\n",
       "    </tr>\n",
       "    <tr>\n",
       "      <th>9</th>\n",
       "      <td>2/6/13</td>\n",
       "      <td>CBS/NYT</td>\n",
       "      <td>15</td>\n",
       "      <td>8</td>\n",
       "      <td>34</td>\n",
       "    </tr>\n",
       "    <tr>\n",
       "      <th>8</th>\n",
       "      <td>5/31/13</td>\n",
       "      <td>CBS/NYT</td>\n",
       "      <td>20</td>\n",
       "      <td>8</td>\n",
       "      <td>30</td>\n",
       "    </tr>\n",
       "    <tr>\n",
       "      <th>6</th>\n",
       "      <td>11/15/13</td>\n",
       "      <td>CBS/NYT</td>\n",
       "      <td>12</td>\n",
       "      <td>8</td>\n",
       "      <td>31</td>\n",
       "    </tr>\n",
       "    <tr>\n",
       "      <th>17</th>\n",
       "      <td>10/21/10</td>\n",
       "      <td>CBS/NYT</td>\n",
       "      <td>18</td>\n",
       "      <td>7</td>\n",
       "      <td>36</td>\n",
       "    </tr>\n",
       "  </tbody>\n",
       "</table>\n",
       "<p>147 rows × 5 columns</p>\n",
       "</div>"
      ],
      "text/plain": [
       "         date   source  non_partisan  rep  dem\n",
       "146   12/1/58      NES            71   79   71\n",
       "145  10/15/64      NES            74   73   80\n",
       "54   10/25/01  CBS/NYT            50   70   47\n",
       "55    10/6/01   GALLUP            53   68   52\n",
       "119  11/30/86  CBS/NYT            54   63   37\n",
       "..        ...      ...           ...  ...  ...\n",
       "12   10/19/11  CBS/NYT            10    8   13\n",
       "9      2/6/13  CBS/NYT            15    8   34\n",
       "8     5/31/13  CBS/NYT            20    8   30\n",
       "6    11/15/13  CBS/NYT            12    8   31\n",
       "17   10/21/10  CBS/NYT            18    7   36\n",
       "\n",
       "[147 rows x 5 columns]"
      ]
     },
     "execution_count": 11,
     "metadata": {},
     "output_type": "execute_result"
    }
   ],
   "source": [
    "data.sort_values('rep', ascending = False, inplace = True) #sorts the table in data in place so that the variable rep shows values in descending order\n",
    "data"
   ]
  },
  {
   "cell_type": "markdown",
   "metadata": {},
   "source": [
    "This level is 79% and it was observed in 1958."
   ]
  },
  {
   "cell_type": "markdown",
   "metadata": {
    "deletable": false,
    "editable": false,
    "nbgrader": {
     "cell_type": "markdown",
     "checksum": "96b7044fc6b59d3988c3f1afe9f13c9b",
     "grade": false,
     "grade_id": "4f",
     "locked": true,
     "points": 1,
     "schema_version": 3,
     "solution": false,
     "task": true
    }
   },
   "source": [
    "**(f) Find the highest Democratic level of trust in government by sorting the data so this observation is on top. What is this level, and in what year was it observed?** "
   ]
  },
  {
   "cell_type": "code",
   "execution_count": 12,
   "metadata": {},
   "outputs": [
    {
     "data": {
      "text/html": [
       "<div>\n",
       "<style scoped>\n",
       "    .dataframe tbody tr th:only-of-type {\n",
       "        vertical-align: middle;\n",
       "    }\n",
       "\n",
       "    .dataframe tbody tr th {\n",
       "        vertical-align: top;\n",
       "    }\n",
       "\n",
       "    .dataframe thead th {\n",
       "        text-align: right;\n",
       "    }\n",
       "</style>\n",
       "<table border=\"1\" class=\"dataframe\">\n",
       "  <thead>\n",
       "    <tr style=\"text-align: right;\">\n",
       "      <th></th>\n",
       "      <th>date</th>\n",
       "      <th>source</th>\n",
       "      <th>non_partisan</th>\n",
       "      <th>rep</th>\n",
       "      <th>dem</th>\n",
       "    </tr>\n",
       "  </thead>\n",
       "  <tbody>\n",
       "    <tr>\n",
       "      <th>145</th>\n",
       "      <td>10/15/64</td>\n",
       "      <td>NES</td>\n",
       "      <td>74</td>\n",
       "      <td>73</td>\n",
       "      <td>80</td>\n",
       "    </tr>\n",
       "    <tr>\n",
       "      <th>146</th>\n",
       "      <td>12/1/58</td>\n",
       "      <td>NES</td>\n",
       "      <td>71</td>\n",
       "      <td>79</td>\n",
       "      <td>71</td>\n",
       "    </tr>\n",
       "    <tr>\n",
       "      <th>144</th>\n",
       "      <td>12/1/66</td>\n",
       "      <td>NES</td>\n",
       "      <td>65</td>\n",
       "      <td>54</td>\n",
       "      <td>71</td>\n",
       "    </tr>\n",
       "    <tr>\n",
       "      <th>143</th>\n",
       "      <td>10/15/68</td>\n",
       "      <td>NES</td>\n",
       "      <td>56</td>\n",
       "      <td>60</td>\n",
       "      <td>66</td>\n",
       "    </tr>\n",
       "    <tr>\n",
       "      <th>43</th>\n",
       "      <td>10/15/04</td>\n",
       "      <td>NES</td>\n",
       "      <td>42</td>\n",
       "      <td>37</td>\n",
       "      <td>62</td>\n",
       "    </tr>\n",
       "    <tr>\n",
       "      <th>...</th>\n",
       "      <td>...</td>\n",
       "      <td>...</td>\n",
       "      <td>...</td>\n",
       "      <td>...</td>\n",
       "      <td>...</td>\n",
       "    </tr>\n",
       "    <tr>\n",
       "      <th>2</th>\n",
       "      <td>4/11/17</td>\n",
       "      <td>PEW</td>\n",
       "      <td>12</td>\n",
       "      <td>28</td>\n",
       "      <td>15</td>\n",
       "    </tr>\n",
       "    <tr>\n",
       "      <th>1</th>\n",
       "      <td>12/4/17</td>\n",
       "      <td>PEW</td>\n",
       "      <td>15</td>\n",
       "      <td>22</td>\n",
       "      <td>15</td>\n",
       "    </tr>\n",
       "    <tr>\n",
       "      <th>0</th>\n",
       "      <td>3/25/19</td>\n",
       "      <td>PEW</td>\n",
       "      <td>22</td>\n",
       "      <td>21</td>\n",
       "      <td>14</td>\n",
       "    </tr>\n",
       "    <tr>\n",
       "      <th>12</th>\n",
       "      <td>10/19/11</td>\n",
       "      <td>CBS/NYT</td>\n",
       "      <td>10</td>\n",
       "      <td>8</td>\n",
       "      <td>13</td>\n",
       "    </tr>\n",
       "    <tr>\n",
       "      <th>31</th>\n",
       "      <td>10/13/08</td>\n",
       "      <td>CBS/NYT</td>\n",
       "      <td>28</td>\n",
       "      <td>19</td>\n",
       "      <td>12</td>\n",
       "    </tr>\n",
       "  </tbody>\n",
       "</table>\n",
       "<p>147 rows × 5 columns</p>\n",
       "</div>"
      ],
      "text/plain": [
       "         date   source  non_partisan  rep  dem\n",
       "145  10/15/64      NES            74   73   80\n",
       "146   12/1/58      NES            71   79   71\n",
       "144   12/1/66      NES            65   54   71\n",
       "143  10/15/68      NES            56   60   66\n",
       "43   10/15/04      NES            42   37   62\n",
       "..        ...      ...           ...  ...  ...\n",
       "2     4/11/17      PEW            12   28   15\n",
       "1     12/4/17      PEW            15   22   15\n",
       "0     3/25/19      PEW            22   21   14\n",
       "12   10/19/11  CBS/NYT            10    8   13\n",
       "31   10/13/08  CBS/NYT            28   19   12\n",
       "\n",
       "[147 rows x 5 columns]"
      ]
     },
     "execution_count": 12,
     "metadata": {},
     "output_type": "execute_result"
    }
   ],
   "source": [
    "data.sort_values('dem', ascending = False, inplace = True) #sorts the table in data in place so that the variable dem shows values in descending order\n",
    "data"
   ]
  },
  {
   "cell_type": "markdown",
   "metadata": {},
   "source": [
    "This level is 80% and it was observed in 1964."
   ]
  },
  {
   "cell_type": "markdown",
   "metadata": {
    "deletable": false,
    "editable": false,
    "nbgrader": {
     "cell_type": "markdown",
     "checksum": "33aa15689246de4c24d816ddb57fd52e",
     "grade": false,
     "grade_id": "4g",
     "locked": true,
     "points": 1,
     "schema_version": 3,
     "solution": false,
     "task": true
    }
   },
   "source": [
    "**(g) Suppose we learn that all the polls conducted by \"CBS/NYT\" were actually only completed by CBS, not in partnership with the NYT (*New York Times*). Using just one command one time, rename all observations of \"CBS/NYT\" to just \"CBS\" in a way that the change will persist in your dataset (i.e., this change will hold as you continue your analyses).** "
   ]
  },
  {
   "cell_type": "code",
   "execution_count": 13,
   "metadata": {},
   "outputs": [],
   "source": [
    "data['source'].replace(['CBS/NYT'], 'CBS', inplace=True) #replaces 'CBS/NYT' to 'CBS' under the source variable in its place."
   ]
  },
  {
   "cell_type": "markdown",
   "metadata": {
    "deletable": false,
    "editable": false,
    "nbgrader": {
     "cell_type": "markdown",
     "checksum": "968de04fecd75b7a01a0563828292e09",
     "grade": false,
     "grade_id": "q5",
     "locked": true,
     "schema_version": 3,
     "solution": false,
     "task": false
    }
   },
   "source": [
    "## Question 5: Descriptive statistics\n",
    "\n",
    "For this question we will continue to use the above dataset to explore descriptive statistics.\n"
   ]
  },
  {
   "cell_type": "markdown",
   "metadata": {
    "deletable": false,
    "editable": false,
    "nbgrader": {
     "cell_type": "markdown",
     "checksum": "a0654497ca11249fbab584c44f6bd063",
     "grade": false,
     "grade_id": "5a",
     "locked": true,
     "points": 1,
     "schema_version": 3,
     "solution": false,
     "task": true
    }
   },
   "source": [
    "<b> (a) Use the describe( ) function to generate descriptive statistics for the entire dataset. What variables are in the results, and why?</b> "
   ]
  },
  {
   "cell_type": "code",
   "execution_count": 14,
   "metadata": {},
   "outputs": [
    {
     "data": {
      "text/html": [
       "<div>\n",
       "<style scoped>\n",
       "    .dataframe tbody tr th:only-of-type {\n",
       "        vertical-align: middle;\n",
       "    }\n",
       "\n",
       "    .dataframe tbody tr th {\n",
       "        vertical-align: top;\n",
       "    }\n",
       "\n",
       "    .dataframe thead th {\n",
       "        text-align: right;\n",
       "    }\n",
       "</style>\n",
       "<table border=\"1\" class=\"dataframe\">\n",
       "  <thead>\n",
       "    <tr style=\"text-align: right;\">\n",
       "      <th></th>\n",
       "      <th>non_partisan</th>\n",
       "      <th>rep</th>\n",
       "      <th>dem</th>\n",
       "    </tr>\n",
       "  </thead>\n",
       "  <tbody>\n",
       "    <tr>\n",
       "      <th>count</th>\n",
       "      <td>147.000000</td>\n",
       "      <td>147.000000</td>\n",
       "      <td>147.000000</td>\n",
       "    </tr>\n",
       "    <tr>\n",
       "      <th>mean</th>\n",
       "      <td>27.435374</td>\n",
       "      <td>34.265306</td>\n",
       "      <td>32.979592</td>\n",
       "    </tr>\n",
       "    <tr>\n",
       "      <th>std</th>\n",
       "      <td>12.523440</td>\n",
       "      <td>17.158139</td>\n",
       "      <td>10.939729</td>\n",
       "    </tr>\n",
       "    <tr>\n",
       "      <th>min</th>\n",
       "      <td>6.000000</td>\n",
       "      <td>7.000000</td>\n",
       "      <td>12.000000</td>\n",
       "    </tr>\n",
       "    <tr>\n",
       "      <th>25%</th>\n",
       "      <td>18.000000</td>\n",
       "      <td>20.000000</td>\n",
       "      <td>26.500000</td>\n",
       "    </tr>\n",
       "    <tr>\n",
       "      <th>50%</th>\n",
       "      <td>27.000000</td>\n",
       "      <td>31.000000</td>\n",
       "      <td>32.000000</td>\n",
       "    </tr>\n",
       "    <tr>\n",
       "      <th>75%</th>\n",
       "      <td>33.500000</td>\n",
       "      <td>50.000000</td>\n",
       "      <td>38.000000</td>\n",
       "    </tr>\n",
       "    <tr>\n",
       "      <th>max</th>\n",
       "      <td>74.000000</td>\n",
       "      <td>79.000000</td>\n",
       "      <td>80.000000</td>\n",
       "    </tr>\n",
       "  </tbody>\n",
       "</table>\n",
       "</div>"
      ],
      "text/plain": [
       "       non_partisan         rep         dem\n",
       "count    147.000000  147.000000  147.000000\n",
       "mean      27.435374   34.265306   32.979592\n",
       "std       12.523440   17.158139   10.939729\n",
       "min        6.000000    7.000000   12.000000\n",
       "25%       18.000000   20.000000   26.500000\n",
       "50%       27.000000   31.000000   32.000000\n",
       "75%       33.500000   50.000000   38.000000\n",
       "max       74.000000   79.000000   80.000000"
      ]
     },
     "execution_count": 14,
     "metadata": {},
     "output_type": "execute_result"
    }
   ],
   "source": [
    "data.describe() #show descriptive stats for data stored in numerical variables"
   ]
  },
  {
   "cell_type": "markdown",
   "metadata": {},
   "source": [
    "Political affiliations are in the results (non-partisan, republican, democrat) because they hold numerical data - the percentage of people of that party that trust the govt. describe() shows descriptive statistics for all numeric variables. Their variable type is numeric, and so we are able to calculate their descriptive stats (values such as mean, median). "
   ]
  },
  {
   "cell_type": "markdown",
   "metadata": {
    "deletable": false,
    "editable": false,
    "nbgrader": {
     "cell_type": "markdown",
     "checksum": "dba4b6be1af5450c0aa312cf88f8df73",
     "grade": false,
     "grade_id": "5b",
     "locked": true,
     "points": 1,
     "schema_version": 3,
     "solution": false,
     "task": true
    }
   },
   "source": [
    "<b> (b) What is the interquartile range for `dem`, and what does this tell us, in substantive terms, about the variable?</b> "
   ]
  },
  {
   "cell_type": "code",
   "execution_count": 15,
   "metadata": {},
   "outputs": [
    {
     "data": {
      "text/plain": [
       "11.5"
      ]
     },
     "execution_count": 15,
     "metadata": {},
     "output_type": "execute_result"
    }
   ],
   "source": [
    "from scipy.stats import iqr #imports iqr function from scipy.stats module\n",
    "iqr(data['dem']) #finds iqr for dem"
   ]
  },
  {
   "cell_type": "markdown",
   "metadata": {},
   "source": [
    "The interquartile range is 11.5. This tells us that the difference between the median of the 75th and 25th percentile of values, or the percentages of Democrats who trust the government at certain dates and from certain sources, is 11.5%. This means there is an scope of values of % of Democrats' trust in government in the middle 50% is within 11.5%."
   ]
  },
  {
   "cell_type": "markdown",
   "metadata": {
    "deletable": false,
    "editable": false,
    "nbgrader": {
     "cell_type": "markdown",
     "checksum": "82dab6fe39c63d6a5ace0b36da06f5b2",
     "grade": false,
     "grade_id": "5c",
     "locked": true,
     "points": 1,
     "schema_version": 3,
     "solution": false,
     "task": true
    }
   },
   "source": [
    "<b> (c) What is the standard deviation for `dem`, and what does this tell us, in substantive terms, about the variable?</b> "
   ]
  },
  {
   "cell_type": "code",
   "execution_count": 16,
   "metadata": {},
   "outputs": [
    {
     "data": {
      "text/plain": [
       "10.939728645901612"
      ]
     },
     "execution_count": 16,
     "metadata": {},
     "output_type": "execute_result"
    }
   ],
   "source": [
    "data['dem'].std() #finds the standard deviation for dem"
   ]
  },
  {
   "cell_type": "markdown",
   "metadata": {},
   "source": [
    "The standard deviation is 10.939728645901612. This tells us that the values, or percentages of Democrats who trust the government at certain dates and from certain sources, are 10.939728645901612% spread out from the average percentage of Democrats who trust the government."
   ]
  },
  {
   "cell_type": "markdown",
   "metadata": {
    "deletable": false,
    "editable": false,
    "nbgrader": {
     "cell_type": "markdown",
     "checksum": "365f30eb5fd3acd5e9f8bebd844a8cea",
     "grade": false,
     "grade_id": "5d",
     "locked": true,
     "points": 1,
     "schema_version": 3,
     "solution": false,
     "task": true
    }
   },
   "source": [
    "<b> (d) One of the arguments in this article is that democrats and republicans may have differing levels of trust in the government, and that it can vary depending on what party the president is. Create a subset of data that includes observations only from one four-year period that was under a republican administration (you might need to look up the dates!). Call this new dataframe `data_rep_admin`. In a Markdown cell, share which administration you've chosen."
   ]
  },
  {
   "cell_type": "code",
   "execution_count": 17,
   "metadata": {},
   "outputs": [
    {
     "data": {
      "text/html": [
       "<div>\n",
       "<style scoped>\n",
       "    .dataframe tbody tr th:only-of-type {\n",
       "        vertical-align: middle;\n",
       "    }\n",
       "\n",
       "    .dataframe tbody tr th {\n",
       "        vertical-align: top;\n",
       "    }\n",
       "\n",
       "    .dataframe thead th {\n",
       "        text-align: right;\n",
       "    }\n",
       "</style>\n",
       "<table border=\"1\" class=\"dataframe\">\n",
       "  <thead>\n",
       "    <tr style=\"text-align: right;\">\n",
       "      <th></th>\n",
       "      <th>date</th>\n",
       "      <th>source</th>\n",
       "      <th>non_partisan</th>\n",
       "      <th>rep</th>\n",
       "      <th>dem</th>\n",
       "    </tr>\n",
       "  </thead>\n",
       "  <tbody>\n",
       "    <tr>\n",
       "      <th>2</th>\n",
       "      <td>2017-04-11</td>\n",
       "      <td>PEW</td>\n",
       "      <td>12</td>\n",
       "      <td>28</td>\n",
       "      <td>15</td>\n",
       "    </tr>\n",
       "    <tr>\n",
       "      <th>1</th>\n",
       "      <td>2017-12-04</td>\n",
       "      <td>PEW</td>\n",
       "      <td>15</td>\n",
       "      <td>22</td>\n",
       "      <td>15</td>\n",
       "    </tr>\n",
       "    <tr>\n",
       "      <th>0</th>\n",
       "      <td>2019-03-25</td>\n",
       "      <td>PEW</td>\n",
       "      <td>22</td>\n",
       "      <td>21</td>\n",
       "      <td>14</td>\n",
       "    </tr>\n",
       "  </tbody>\n",
       "</table>\n",
       "</div>"
      ],
      "text/plain": [
       "        date source  non_partisan  rep  dem\n",
       "2 2017-04-11    PEW            12   28   15\n",
       "1 2017-12-04    PEW            15   22   15\n",
       "0 2019-03-25    PEW            22   21   14"
      ]
     },
     "execution_count": 17,
     "metadata": {},
     "output_type": "execute_result"
    }
   ],
   "source": [
    "data['date'] = pd.to_datetime(data['date']) #converts dates in variable data to datetime format (using pandas function).\n",
    "mask = (data['date'] > '2017-1-20') & (data['date'] < '2021-1-20') #check if dates in the variable date are within range for the dates to look for (Trump's admin is between Jan 20, 2017-Jan 20, 2021)\n",
    "data_rep_admin = data.loc[mask] #stores all the observations where the condition from above is true into data_rep_admin variable\n",
    "data_rep_admin"
   ]
  },
  {
   "cell_type": "markdown",
   "metadata": {},
   "source": [
    "Trump administration"
   ]
  },
  {
   "cell_type": "markdown",
   "metadata": {
    "deletable": false,
    "editable": false,
    "nbgrader": {
     "cell_type": "markdown",
     "checksum": "60bb8283711a09c4b4447ae18f85f686",
     "grade": false,
     "grade_id": "5e",
     "locked": true,
     "points": 1,
     "schema_version": 3,
     "solution": false,
     "task": true
    }
   },
   "source": [
    "<b>(e) Write code to find out: What was the mean level of republican trust in government during the administration you chose in 5(d) above? What was the mean level of democratic trust in government at that time? </b> "
   ]
  },
  {
   "cell_type": "code",
   "execution_count": 18,
   "metadata": {},
   "outputs": [
    {
     "data": {
      "text/plain": [
       "23.666666666666668"
      ]
     },
     "execution_count": 18,
     "metadata": {},
     "output_type": "execute_result"
    }
   ],
   "source": [
    "mean(data_rep_admin['rep']) #finds mean level of republican trust in government during Trump admin"
   ]
  },
  {
   "cell_type": "code",
   "execution_count": 19,
   "metadata": {},
   "outputs": [
    {
     "data": {
      "text/plain": [
       "14.666666666666666"
      ]
     },
     "execution_count": 19,
     "metadata": {},
     "output_type": "execute_result"
    }
   ],
   "source": [
    "mean(data_rep_admin['dem']) #finds mean level of democratic trust in government at that time"
   ]
  },
  {
   "cell_type": "markdown",
   "metadata": {
    "deletable": false,
    "editable": false,
    "nbgrader": {
     "cell_type": "markdown",
     "checksum": "5b9b74d11aba2a04551636100a17056f",
     "grade": false,
     "grade_id": "5f",
     "locked": true,
     "points": 1,
     "schema_version": 3,
     "solution": false,
     "task": true
    }
   },
   "source": [
    "<b> (f) Is your result consistent with the theory that republicans and democrats trust the government more when their own party holds the presidency? Why or why not?"
   ]
  },
  {
   "cell_type": "markdown",
   "metadata": {},
   "source": [
    "No, this result does not tell us anything about our theory. The theory is that  republicans and democrats trust the government more when their own party holds the presidency, so to see if our results are consistent, we would have to gather data about republicans' and democrats' trust in government in a democratic presidency. Right now, our means are telling us about the trust in government in a republican presidency, but we also have to see if republicans have a lower mean during a democratic presidency and that democrats have a higher mean during a democratic presidency to say that our results are consistent with our theory."
   ]
  },
  {
   "cell_type": "markdown",
   "metadata": {
    "deletable": false,
    "editable": false,
    "nbgrader": {
     "cell_type": "markdown",
     "checksum": "6ac8250afa5dbae6d00701aa57cf700f",
     "grade": false,
     "grade_id": "5g",
     "locked": true,
     "points": 1,
     "schema_version": 3,
     "solution": false,
     "task": true
    }
   },
   "source": [
    "**(g) Based on your answer to 5(f), what does this imply for the theory? Have you falisified it? Proved it? What's the verdict, and why?**"
   ]
  },
  {
   "cell_type": "markdown",
   "metadata": {},
   "source": [
    "We have neither falsified it not proved it(which is not possible anyways). We don't have enough information to come to any type of conclusion with our theory. We also need observations from one four-year period that was under a republican administration so that we can find the means for the dem and rep trust in govt at that time and compare it to the means from the Trump administration's time to say anything about our theory, either falsify it or fail to disprove it."
   ]
  },
  {
   "cell_type": "markdown",
   "metadata": {
    "deletable": false,
    "editable": false,
    "nbgrader": {
     "cell_type": "markdown",
     "checksum": "3e71ec6876ffbc7654aab7513f58a097",
     "grade": false,
     "grade_id": "footer",
     "locked": true,
     "schema_version": 3,
     "solution": false,
     "task": false
    }
   },
   "source": [
    "## End of Homework\n",
    "\n",
    "Congratulations on finishing the second homework! Don't forget to turn it in properly!"
   ]
  }
 ],
 "metadata": {
  "hide_input": false,
  "kernelspec": {
   "display_name": "Python [conda env:dsua-111]",
   "language": "python",
   "name": "conda-env-dsua-111-py"
  },
  "language_info": {
   "codemirror_mode": {
    "name": "ipython",
    "version": 3
   },
   "file_extension": ".py",
   "mimetype": "text/x-python",
   "name": "python",
   "nbconvert_exporter": "python",
   "pygments_lexer": "ipython3",
   "version": "3.7.7"
  },
  "varInspector": {
   "cols": {
    "lenName": 16,
    "lenType": 16,
    "lenVar": 40
   },
   "kernels_config": {
    "python": {
     "delete_cmd_postfix": "",
     "delete_cmd_prefix": "del ",
     "library": "var_list.py",
     "varRefreshCmd": "print(var_dic_list())"
    },
    "r": {
     "delete_cmd_postfix": ") ",
     "delete_cmd_prefix": "rm(",
     "library": "var_list.r",
     "varRefreshCmd": "cat(var_dic_list()) "
    }
   },
   "types_to_exclude": [
    "module",
    "function",
    "builtin_function_or_method",
    "instance",
    "_Feature"
   ],
   "window_display": false
  }
 },
 "nbformat": 4,
 "nbformat_minor": 2
}
