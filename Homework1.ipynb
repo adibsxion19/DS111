
  {
   "cell_type": "markdown",
   "metadata": {
    "deletable": false,
    "editable": false,
    "nbgrader": {
     "cell_type": "markdown",
     "checksum": "2aad76cc52cc63d6717c623e9deda2c4",
     "grade": false,
     "grade_id": "1",
     "locked": true,
     "schema_version": 3,
     "solution": false,
     "task": false
    }
   },
   "source": [
    "# Question 1: Independent vs. dependent variables\n",
    "\n",
    "<b>The following statements arise from various theories. In each case, identify the *independent variable(s)*."
   ]
  },
  {
   "cell_type": "markdown",
   "metadata": {
    "deletable": false,
    "editable": false,
    "nbgrader": {
     "cell_type": "markdown",
     "checksum": "3ff0f580550295b6d74e751d24d3ec42",
     "grade": false,
     "grade_id": "1a",
     "locked": true,
     "points": 1,
     "schema_version": 3,
     "solution": false,
     "task": true
    }
   },
   "source": [
    "**(a) Identify the independent variable(s): Malaria is caused by being bitten by an infected mosquito.**"
   ]
  },
  {
   "cell_type": "markdown",
   "metadata": {},
   "source": [
    "Infected Mosquito bite"
   ]
  },
  {
   "cell_type": "markdown",
   "metadata": {
    "deletable": false,
    "editable": false,
    "nbgrader": {
     "cell_type": "markdown",
     "checksum": "ccfbcffdf152ef357cb0d61e8ca10ab2",
     "grade": false,
     "grade_id": "1b",
     "locked": true,
     "points": 1,
     "schema_version": 3,
     "solution": false,
     "task": true
    }
   },
   "source": [
    "<b>(b) Identify the independent variable(s): One of the biggest disruptors of sleep is outside noise. </b>"
   ]
  },
  {
   "cell_type": "markdown",
   "metadata": {},
   "source": [
    "Outside noise (heard by someone sleeping)"
   ]
  },
  {
   "cell_type": "markdown",
   "metadata": {
    "deletable": false,
    "editable": false,
    "nbgrader": {
     "cell_type": "markdown",
     "checksum": "e975d0fcfcf06121bfb66615bd36a24f",
     "grade": false,
     "grade_id": "1c",
     "locked": true,
     "points": 1,
     "schema_version": 3,
     "solution": false,
     "task": true
    }
   },
   "source": [
    "<b> (c) Identify the independent variable(s): A recent study found no evidence of violent movies causing violent behavior among adolescents. </b>"
   ]
  },
  {
   "cell_type": "markdown",
   "metadata": {},
   "source": [
    " Violent movies watched by adolescents"
   ]
  },
  {
   "cell_type": "markdown",
   "metadata": {
    "deletable": false,
    "editable": false,
    "nbgrader": {
     "cell_type": "markdown",
     "checksum": "d2710697c6ec423f8b5852e83d0d86eb",
     "grade": false,
     "grade_id": "1d",
     "locked": true,
     "points": 1,
     "schema_version": 3,
     "solution": false,
     "task": true
    }
   },
   "source": [
    "<b> (d) Identify the independent variable(s): In many cases job satisfaction arises from both having challenging work as well as friendly colleagues.</b>"
   ]
  },
  {
   "cell_type": "markdown",
   "metadata": {},
   "source": [
    "Challenging work, friendly colleagues"
   ]
  },
  {
   "cell_type": "markdown",
   "metadata": {
    "deletable": false,
    "editable": false,
    "nbgrader": {
     "cell_type": "markdown",
     "checksum": "d12bbf3339aaee71dd7ffba4b7e0c1cb",
     "grade": false,
     "grade_id": "1e",
     "locked": true,
     "points": 1,
     "schema_version": 3,
     "solution": false,
     "task": true
    }
   },
   "source": [
    "<b> (e)  Identify the independent variable(s): Elderly people around the world all tend to live longer if they have regular, meaningful human contact.</b>"
   ]
  },
  {
   "cell_type": "markdown",
   "metadata": {},
   "source": [
    "Regular, meaningful human contact by the elderly"
   ]
  },
  {
   "cell_type": "markdown",
   "metadata": {
    "deletable": false,
    "editable": false,
    "nbgrader": {
     "cell_type": "markdown",
     "checksum": "2501b6b2f6fd20a0593e1202338ff2fc",
     "grade": false,
     "grade_id": "1f",
     "locked": true,
     "points": 1,
     "schema_version": 3,
     "solution": false,
     "task": true
    }
   },
   "source": [
    "<b> (f)  Identify the independent variable(s): Up to two cups of coffee each day are associated with good health, but more than that can be harmful to health in many people, according to a study recently conducted in Wisconsin.</b>"
   ]
  },
  {
   "cell_type": "markdown",
   "metadata": {},
   "source": [
    "Amount of coffee drunk everyday"
   ]
  },
  {
   "cell_type": "markdown",
   "metadata": {
    "deletable": false,
    "editable": false,
    "nbgrader": {
     "cell_type": "markdown",
     "checksum": "325c81f32ef87bcd217040d9c7420277",
     "grade": false,
     "grade_id": "2",
     "locked": true,
     "schema_version": 3,
     "solution": false,
     "task": false
    }
   },
   "source": [
    "# Question 2: Key concepts in scientific research\n",
    "\n",
    "<b>Provide brief answers to the following questions.</b>"
   ]
  },
  {
   "cell_type": "markdown",
   "metadata": {
    "deletable": false,
    "editable": false,
    "nbgrader": {
     "cell_type": "markdown",
     "checksum": "291a4d9a124f24172fe57bd6df4a84d7",
     "grade": false,
     "grade_id": "2a",
     "locked": true,
     "points": 1,
     "schema_version": 3,
     "solution": false,
     "task": true
    }
   },
   "source": [
    "<b>(a) What is the difference between a natural experiment and an experiment?</b>"
   ]
  },
  {
   "cell_type": "markdown",
   "metadata": {},
   "source": [
    "In an experiment, humans conduct a study where they create randomized control and treatment groups.On the other hand, in a natural experiment, the environment allows us to observe \"control\" and \"treatment\" groups as if randomized."
   ]
  },
  {
   "cell_type": "markdown",
   "metadata": {
    "deletable": false,
    "editable": false,
    "nbgrader": {
     "cell_type": "markdown",
     "checksum": "327f2be1f5bc0da932014199f84560a0",
     "grade": false,
     "grade_id": "2b",
     "locked": true,
     "points": 1,
     "schema_version": 3,
     "solution": false,
     "task": true
    },
    "slideshow": {
     "slide_type": "subslide"
    }
   },
   "source": [
    "<b>(b) What is the fundamental problem of causal inference, and why does it pose a challenge for scientists?</b>"
   ]
  },
  {
   "cell_type": "markdown",
   "metadata": {},
   "source": [
    "Casual inference relies on counterfactual reasoning, or what-if scenarios. We cannot be sure x cause y unless we see that y wouldn't happen if x didn't happen. However, this is usually impossible, because we can't change events that have already occurred (unfortunately, time travel doesn't exist :( ). This poses a challenge because then, proving causality is harder and setting up experiments that mimic a \"what-if\" scenario needs to take many factors into account (confounders, endogeneity, missing variable). Thus, scientists can never prove theories. "
   ]
  },
  {
   "cell_type": "markdown",
   "metadata": {
    "deletable": false,
    "editable": false,
    "nbgrader": {
     "cell_type": "markdown",
     "checksum": "d7fcab537d5a3fc1e1712b3dc953c012",
     "grade": false,
     "grade_id": "2c",
     "locked": true,
     "points": 1,
     "schema_version": 3,
     "solution": false,
     "task": true
    }
   },
   "source": [
    "<b>(c) In lecture we discussed that randomizing to treatment and control in experiments can help minimize \"selection bias\". What is selection bias, and how does such randomization minimize it?"
   ]
  },
  {
   "cell_type": "markdown",
   "metadata": {},
   "source": [
    "Selection bias is when controlled/treatment groups aren't formed with much variety or there are certain factors that influence how the group is chosen for the experiment that might be confounding with other variables in the experiment. Randomization allows the control and treatment groups to be similar except for the treatment they receive, so that no confounding variable prevents us from isolating the casaul \"piece of the puzzle\"."
   ]
  },
  {
   "cell_type": "markdown",
   "metadata": {
    "deletable": false,
    "editable": false,
    "nbgrader": {
     "cell_type": "markdown",
     "checksum": "0b461f1813e7eec57e3cc2bf77b169dc",
     "grade": false,
     "grade_id": "2d",
     "locked": true,
     "points": 1,
     "schema_version": 3,
     "solution": false,
     "task": true
    }
   },
   "source": [
    "<b>(d) Provide one example of a theory that is falsifiable and one example of a theory that is not falsifiable.</b>"
   ]
  },
  {
   "cell_type": "markdown",
   "metadata": {},
   "source": [
    "Falsifiable Theory: Drinking soda leads to heart attacks.\n",
    "Not Falsiable Theory: People lived better lives before phones existed."
   ]
  },
  {
   "cell_type": "markdown",
   "metadata": {
    "deletable": false,
    "editable": false,
    "nbgrader": {
     "cell_type": "markdown",
     "checksum": "ca270940baa77765b0783613686dabc6",
     "grade": false,
     "grade_id": "2e",
     "locked": true,
     "points": 1,
     "schema_version": 3,
     "solution": false,
     "task": true
    }
   },
   "source": [
    "<b> (e) Provide one example of a study that likely suffers from endogeneity and explain why the variables you identified are endogenous.</b>"
   ]
  },
  {
   "cell_type": "markdown",
   "metadata": {},
   "source": [
    "The study of how the amount of work experience someone has affects their acceptance into internships suffers from endogeneity. The more work experience someone has, the more appealing they will look on their resume and likely get accepted into internships, but the more internships they are accepted into and work in, the more work experience they will gain. The independent variable affects the dependent one and vice versa."
   ]
  },
  {
   "cell_type": "markdown",
   "metadata": {
    "deletable": false,
    "editable": false,
    "nbgrader": {
     "cell_type": "markdown",
     "checksum": "a771b43bf95ef321b654bd66e4fab819",
     "grade": false,
     "grade_id": "2f",
     "locked": true,
     "points": 1,
     "schema_version": 3,
     "solution": false,
     "task": true
    }
   },
   "source": [
    "<b>(f) What is the difference between a confounder and a missing variable?</b>"
   ]
  },
  {
   "cell_type": "markdown",
   "metadata": {},
   "source": [
    "A confounder is a variable that has an effect on both the independent and dependent variables. A missing variable is a variable that has an effect on the dependent variable."
   ]
  },
  {
   "cell_type": "markdown",
   "metadata": {
    "deletable": false,
    "editable": false,
    "nbgrader": {
     "cell_type": "markdown",
     "checksum": "86d1ffa5fa257324a5b2afa550c9cab4",
     "grade": false,
     "grade_id": "3",
     "locked": true,
     "schema_version": 3,
     "solution": false,
     "task": false
    }
   },
   "source": [
    "# Question 3: Movement and creativity\n",
    "\n",
    "<b>The following questions refer to the scientific paper \"[Everyday Bodily Movement is Associated with Creativity Independently from Active Positive Effect: A Bayesian Mediation Analysis Aproach](https://www.nature.com/articles/s41598-020-68632-9),\" which was recently published in the scientific journal *Scientific Reports*. Briefly answer the following questions.</b>"
   ]
  },
  {
   "cell_type": "markdown",
   "metadata": {
    "deletable": false,
    "editable": false,
    "nbgrader": {
     "cell_type": "markdown",
     "checksum": "1fc9da24f5d17316789bde45971d3542",
     "grade": false,
     "grade_id": "3a",
     "locked": true,
     "points": 1,
     "schema_version": 3,
     "solution": false,
     "task": true
    }
   },
   "source": [
    "<b>(a) The authors describe that they conducted two studies. Specifically, they write, \"The aim of this study was twofold: Firstly, we investigated whether everyday bodily movement was associated with creative performance. Secondly, we examined if positive-activated affect may mediate the association between bodily movement and creative performance.\"\n",
    "\n",
    "What is the *dependent* variable in the first study?</b>"
   ]
  },
  {
   "cell_type": "markdown",
   "metadata": {},
   "source": [
    "creative performance"
   ]
  },
  {
   "cell_type": "markdown",
   "metadata": {
    "deletable": false,
    "editable": false,
    "nbgrader": {
     "cell_type": "markdown",
     "checksum": "f760f8f7bf8c1b8d7a867f3c82de41b9",
     "grade": false,
     "grade_id": "3b",
     "locked": true,
     "points": 1,
     "schema_version": 3,
     "solution": false,
     "task": true
    }
   },
   "source": [
    "<b>(b) What is the *independent* variable in the first study?</b>"
   ]
  },
  {
   "cell_type": "markdown",
   "metadata": {},
   "source": [
    "everyday bodily movement"
   ]
  },
  {
   "cell_type": "markdown",
   "metadata": {
    "deletable": false,
    "editable": false,
    "nbgrader": {
     "cell_type": "markdown",
     "checksum": "15a58ae4500fad843216669232bdcf1c",
     "grade": false,
     "grade_id": "3c",
     "locked": true,
     "points": 1,
     "schema_version": 3,
     "solution": false,
     "task": true
    }
   },
   "source": [
    "<b>(c) What is the *dependent* variable in the second study?</b>"
   ]
  },
  {
   "cell_type": "markdown",
   "metadata": {},
   "source": [
    "association between bodily and creative movement"
   ]
  },
  {
   "cell_type": "markdown",
   "metadata": {
    "deletable": false,
    "editable": false,
    "nbgrader": {
     "cell_type": "markdown",
     "checksum": "4efc10cceb6bf8dd4c27cc8491f20aed",
     "grade": false,
     "grade_id": "3d",
     "locked": true,
     "points": 1,
     "schema_version": 3,
     "solution": false,
     "task": true
    }
   },
   "source": [
    "<b>(d) What is the *independent* variable in the second study?</b>"
   ]
  },
  {
   "cell_type": "markdown",
   "metadata": {},
   "source": [
    "positive-activated affect"
   ]
  },
  {
   "cell_type": "markdown",
   "metadata": {
    "deletable": false,
    "editable": false,
    "nbgrader": {
     "cell_type": "markdown",
     "checksum": "313b9a6ab2f28cc072355cfa0ccf76db",
     "grade": false,
     "grade_id": "3e",
     "locked": true,
     "points": 1,
     "schema_version": 3,
     "solution": false,
     "task": true
    }
   },
   "source": [
    "<b>(e) The authors refer to causal mechanisms when they write, \"The mechanisms, however, underlying these relationships are poorly understood.\" What is a causal mechanism (generally), and to what sorts of mechanisms are the researchers referring (in this study specifically)?</b>"
   ]
  },
  {
   "cell_type": "markdown",
   "metadata": {},
   "source": [
    "Casual mechanisms are the reasons something is causing a certain outcome to occur. In this study, the researchs are referring to positive-activated affect (casual mechanism) that possibly affects bodily movements which possible affects creative performance. "
   ]
  },
  {
   "cell_type": "markdown",
   "metadata": {
    "deletable": false,
    "editable": false,
    "nbgrader": {
     "cell_type": "markdown",
     "checksum": "9eabe5f386820f707c74e74032781b6e",
     "grade": false,
     "grade_id": "3f",
     "locked": true,
     "points": 1,
     "schema_version": 3,
     "solution": false,
     "task": true
    }
   },
   "source": [
    "<b>(e) Are the described studies observational or experiments? Briefly explain your answer.</b>"
   ]
  },
  {
   "cell_type": "markdown",
   "metadata": {},
   "source": [
    "They are experiments. A group of participants from varying ages, weights, degree levels were chosen, given creative tasks to complete, and their bodily movements and PAA were measured to see if their was any association between these variables. The control group would be participants who reported negative emotions or weren't physically active and the treatment group would be participants who showed higher signs of PAA or were more physically active and the study was done to see if PAA was associated with bodily movement and bodily movement associated with creative performance."
   ]
  },
  {
   "cell_type": "markdown",
   "metadata": {
    "deletable": false,
    "editable": false,
    "nbgrader": {
     "cell_type": "markdown",
     "checksum": "a3158f501247f70cbfc5bd4027e08ff7",
     "grade": false,
     "grade_id": "3g",
     "locked": true,
     "points": 1,
     "schema_version": 3,
     "solution": false,
     "task": true
    }
   },
   "source": [
    "<b>(f) In the \"Discussion\" section of the paper, the authors write, \"It would also be possible, for instance, that creativity leads to more positive affect and higher levels of positive affect result in more everyday bodily movement.\" What challenge to inference are they identifying here? Briefly explain your answer.</b>\n",
    "    \n",
    "(Discussion sections in scientific papers are where the researchers typically interpret their results, connect them to other research findings, and describe limitations to their study (all science has limitations, as we know, and being honest about those limitations is a big part of doing good scientific work.)"
   ]
  },
  {
   "cell_type": "markdown",
   "metadata": {},
   "source": [
    "They are indentifying the possibility of endogeneity in their study, or that X might cause Y but Y might cause X. Though they were initially studying the effect of positive affect on bodily movement and the effect of bodily movement on creativity, they also considered that their dependent variables were affecting their independent variables. They identified the possibility that creativity could affect positive affect, which in turn affects bodily movement."
   ]
  },
  {
   "cell_type": "markdown",
   "metadata": {
    "deletable": false,
    "editable": false,
    "nbgrader": {
     "cell_type": "markdown",
     "checksum": "b931bdbabe0c4d39d058ef68568149eb",
     "grade": false,
     "grade_id": "4",
     "locked": true,
     "schema_version": 3,
     "solution": false,
     "task": false
    }
   },
   "source": [
    "# Question 4: Open adoption\n",
    "    \n",
    "**Read the news story, \"[New Study Examines the Effects of 'Open' Adoption on Families](https://whyy.org/articles/new-study-examines-the-effects-of-open-adoption-on-families/)\", which describes a research project about open adoption.**"
   ]
  },
  {
   "cell_type": "markdown",
   "metadata": {
    "deletable": false,
    "editable": false,
    "nbgrader": {
     "cell_type": "markdown",
     "checksum": "110dfb770d35c8d9cdbde9f13bfed6ee",
     "grade": false,
     "grade_id": "4a",
     "locked": true,
     "points": 1,
     "schema_version": 3,
     "solution": false,
     "task": true
    }
   },
   "source": [
    "<b>(a) What are the *dependent* variables in this study?</b>"
   ]
  },
  {
   "cell_type": "markdown",
   "metadata": {},
   "source": [
    "children's adjustment in adopted family, number of behavior problems in adopted children"
   ]
  },
  {
   "cell_type": "markdown",
   "metadata": {
    "deletable": false,
    "editable": false,
    "nbgrader": {
     "cell_type": "markdown",
     "checksum": "c698fbd0bde6c13fa5d6c0e8fda88060",
     "grade": false,
     "grade_id": "4b",
     "locked": true,
     "points": 1,
     "schema_version": 3,
     "solution": false,
     "task": true
    }
   },
   "source": [
    "<b>(b) What is the treatment in this study?</b>"
   ]
  },
  {
   "cell_type": "markdown",
   "metadata": {},
   "source": [
    "Adopted children's choice in how much they can communicate with birth parents"
   ]
  },
  {
   "cell_type": "markdown",
   "metadata": {
    "deletable": false,
    "editable": false,
    "nbgrader": {
     "cell_type": "markdown",
     "checksum": "14eb7f457f986278bb65706a45f16415",
     "grade": false,
     "grade_id": "4c",
     "locked": true,
     "points": 1,
     "schema_version": 3,
     "solution": false,
     "task": true
    },
    "slideshow": {
     "slide_type": "slide"
    }
   },
   "source": [
    "<b> (c) Is this an experiment, a natural experiment, or an observational study? Briefly explain your answer."
   ]
  },
  {
   "cell_type": "markdown",
   "metadata": {},
   "source": [
    "This is a natural experiment. Adopted children were observed and the study was done on two groups, children without and with open adoptions. These groups were formed based on circumstance (if a child happened to get an open adoption or not) and so, they were seemingly randomized (by the environment). Though humans didn't control this study, only observed it for 2 decades, the children's situations made it seem like an experiment."
   ]
  },
  {
   "cell_type": "markdown",
   "metadata": {
    "deletable": false,
    "editable": false,
    "nbgrader": {
     "cell_type": "markdown",
     "checksum": "d4a15225ef4dc4c4a4bafb4db4ef4245",
     "grade": false,
     "grade_id": "4d",
     "locked": true,
     "points": 1,
     "schema_version": 3,
     "solution": false,
     "task": true
    }
   },
   "source": [
    "<b>(d) Suppose we learn that in this study the researchers selected on the dependent variable. What would that mean they did, and what would it imply for the conclusions from this study?</b>"
   ]
  },
  {
   "cell_type": "markdown",
   "metadata": {},
   "source": [
    "This means they only studied adopted children who adjusted well and had fewer behavioral problem and found that many of those children had an open adoption. This implies that we cannot make a casaul inference that open adoption is \"better\" for children or lets them adjust better/have fewer behavioral problems. The conclusions of this study would be unreliable."
   ]
  },
  {
   "cell_type": "markdown",
   "metadata": {
    "deletable": false,
    "editable": false,
    "nbgrader": {
     "cell_type": "markdown",
     "checksum": "7e56ca8d06ae2af16e2488ed29444c5b",
     "grade": false,
     "grade_id": "q5",
     "locked": true,
     "schema_version": 3,
     "solution": false,
     "task": false
    }
   },
   "source": [
    "# Question 5: Mice and empathy\n",
    "\n",
    "**Read the (very brief) article, \"[Mice Feel for Each Other](https://www.sciencemag.org/news/2021/01/mice-feel-each-other)\", which describes a (sort of heartwarming and sort of concerning, depending on your perspective!) study recently published in the scientific journal *Science*.**\n",
    "\n",
    "(Feel free to read the linked [actual study](https://science.sciencemag.org/content/371/6525/153) if you like, though it's not necessary to answer these questions. Note you will likely need to be logged in through the NYU library to access the full text of the article.)"
   ]
  },
  {
   "cell_type": "markdown",
   "metadata": {
    "deletable": false,
    "editable": false,
    "nbgrader": {
     "cell_type": "markdown",
     "checksum": "f90fad4ad6bce90bb3b0a2eeb36e7283",
     "grade": false,
     "grade_id": "5a",
     "locked": true,
     "points": 1,
     "schema_version": 3,
     "solution": false,
     "task": true
    }
   },
   "source": [
    "<b>(a) The study is described as an experiment. What does this imply in terms of how the treatment and control groups were assigned?</b>"
   ]
  },
  {
   "cell_type": "markdown",
   "metadata": {},
   "source": [
    "This implies that the groups were randomized, their was a double-blind assignment, and influencing factors like confounding or missing variables were controlled or accounted for."
   ]
  },
  {
   "cell_type": "markdown",
   "metadata": {
    "deletable": false,
    "editable": false,
    "nbgrader": {
     "cell_type": "markdown",
     "checksum": "e21ab959477cbe74f68c072d52b117d0",
     "grade": false,
     "grade_id": "5b",
     "locked": true,
     "points": 1,
     "schema_version": 3,
     "solution": false,
     "task": true
    }
   },
   "source": [
    "<b>(b) What are the treatment and control groups in this study?"
   ]
  },
  {
   "cell_type": "markdown",
   "metadata": {},
   "source": [
    "The treatment groups were the mice who received an irritating injection and then soothing morphine. The control groups were the mice (paired up with the mice in the treatment group) in the same cage that did not receive any medication/injection."
   ]
  },
  {
   "cell_type": "markdown",
   "metadata": {
    "deletable": false,
    "editable": false,
    "nbgrader": {
     "cell_type": "markdown",
     "checksum": "86fb3725ef06f62132e896e67291bc13",
     "grade": false,
     "grade_id": "6",
     "locked": true,
     "schema_version": 3,
     "solution": false,
     "task": false
    }
   },
   "source": [
    "# Question 6: Confounders\n",
    "\n",
    "<b>For each case below, give a plausbile confounder for the observed empirical association being described.</b>"
   ]
  },
  {
   "cell_type": "markdown",
   "metadata": {
    "deletable": false,
    "editable": false,
    "nbgrader": {
     "cell_type": "markdown",
     "checksum": "cd2490327a41a2627396457a16d07e2b",
     "grade": false,
     "grade_id": "6a",
     "locked": true,
     "points": 1,
     "schema_version": 3,
     "solution": false,
     "task": true
    }
   },
   "source": [
    "<b> (a) On average, people who take vitamins are more likely to exercise regularly. Before we recommend everyone start taking vitamins if they'd like to exercise more, what's a likely confounder?</b>"
   ]
  },
  {
   "cell_type": "markdown",
   "metadata": {},
   "source": [
    "how health-conscious someone is"
   ]
  },
  {
   "cell_type": "markdown",
   "metadata": {
    "deletable": false,
    "editable": false,
    "nbgrader": {
     "cell_type": "markdown",
     "checksum": "dc1b3bb9c7a0d716bd3ff57afc7d7913",
     "grade": false,
     "grade_id": "6b",
     "locked": true,
     "points": 1,
     "schema_version": 3,
     "solution": false,
     "task": true
    }
   },
   "source": [
    "<b>(b) On average, people who use the word \"whom\" are more likely to have higher wages than those who do not. Before we recommend adding this word to everyone's vocabulary in order to get rich quickly, what's a likely confounder?</b>"
   ]
  },
  {
   "cell_type": "markdown",
   "metadata": {},
   "source": [
    "the amount of education someone has"
   ]
  },
  {
   "cell_type": "markdown",
   "metadata": {
    "deletable": false,
    "editable": false,
    "nbgrader": {
     "cell_type": "markdown",
     "checksum": "225c5662304e51fae8e2751d1f1e99ca",
     "grade": false,
     "grade_id": "6c",
     "locked": true,
     "points": 1,
     "schema_version": 3,
     "solution": false,
     "task": true
    }
   },
   "source": [
    "<b> (c) On average, people who invest more in cryptocurrencies are less likely to become seriously ill from Covid-19. Before we suggest everyone invest in crypto as a way to finally end this horrible pandemic, what's a likely confounder?</b>"
   ]
  },
  {
   "cell_type": "markdown",
   "metadata": {},
   "source": [
    "amount of time spent home"
   ]
  },
  {
   "cell_type": "markdown",
   "metadata": {
    "deletable": false,
    "editable": false,
    "nbgrader": {
     "cell_type": "markdown",
     "checksum": "427876fc6c9861347f4cda928563bee2",
     "grade": false,
     "grade_id": "6d",
     "locked": true,
     "points": 1,
     "schema_version": 3,
     "solution": false,
     "task": true
    }
   },
   "source": [
    "<b> (d) On average, people who live in bigger homes are more likely to seek a mental health therapy. Before we conclude that big homes cause mental illness, what's a likely confounder?</b>"
   ]
  },
  {
   "cell_type": "markdown",
   "metadata": {},
   "source": [
    "amount of wealth someone has"
   ]
  },
  {
   "cell_type": "markdown",
   "metadata": {
    "deletable": false,
    "editable": false,
    "nbgrader": {
     "cell_type": "markdown",
     "checksum": "19a9b504cee8278112d493d7cff9dda1",
     "grade": false,
     "grade_id": "6e",
     "locked": true,
     "points": 1,
     "schema_version": 3,
     "solution": false,
     "task": true
    }
   },
   "source": [
    "<b> (e) On average, Americans who pay more for coffee each day are more likely to have liberal political views than those who pay less. Before the Democratic party starts charging everyone more for coffee in order to drum up support for their candidates, what's a likely confounder?"
   ]
  },
  {
   "cell_type": "markdown",
   "metadata": {},
   "source": [
    "geographic location (urban vs. rural area) of someone"
   ]
  },
  {
   "cell_type": "markdown",
   "metadata": {
    "deletable": false,
    "editable": false,
    "nbgrader": {
     "cell_type": "markdown",
     "checksum": "7f1b1b861fe6ab853aa57714552eae9d",
     "grade": false,
     "grade_id": "7",
     "locked": true,
     "schema_version": 3,
     "solution": false,
     "task": false
    }
   },
   "source": [
    "# Question 7: Magma!\n",
    "    \n",
    "<b>Read the article \"[Study Proves that Magma Chambers Can Be Totally Molten](https://www.eurekalert.org/pub_releases/2020-06/uotw-spt060920.php),\" which recently appeared in *EurekAlert!*, a news-release distribution platform operated by the American Association for the Advancement of Science (AAAS).</b>"
   ]
  },
  {
   "cell_type": "markdown",
   "metadata": {
    "deletable": false,
    "editable": false,
    "nbgrader": {
     "cell_type": "markdown",
     "checksum": "1b7f1e159ecc9ae00b7a0721d0487d47",
     "grade": false,
     "grade_id": "7a",
     "locked": true,
     "points": 1,
     "schema_version": 3,
     "solution": false,
     "task": true
    }
   },
   "source": [
    "<b>(a) Without commenting on the study itself, which word is misused in this headline, and what's wrong with how it's used?</b>"
   ]
  },
  {
   "cell_type": "markdown",
   "metadata": {},
   "source": [
    "The word \"proves\" in misused in this headline. Studies cannot prove a theory, they can only disprove it or fail to do so. (In the study itself, we can sense uncertainty with words like \"may develop as\" or \"attempts to understand...is incredibly challenging\" which indicates that this has/cannot not been proven.)"
   ]
  },
  {
   "cell_type": "markdown",
   "metadata": {
    "deletable": false,
    "editable": false,
    "nbgrader": {
     "cell_type": "markdown",
     "checksum": "1390e48ac242165c36c313903314f690",
     "grade": false,
     "grade_id": "footer",
     "locked": true,
     "schema_version": 3,
     "solution": false,
     "task": false
    }
   },
   "source": [
    "## End of Homework\n",
    "\n",
    "Be sure to submit it correctly! (It will be marked late if you do not!)"
   ]
  }
 ],
 "metadata": {
  "hide_input": false,
  "kernelspec": {
   "display_name": "Python 3",
   "language": "python",
   "name": "python3"
  },
  "language_info": {
   "codemirror_mode": {
    "name": "ipython",
    "version": 3
   },
   "file_extension": ".py",
   "mimetype": "text/x-python",
   "name": "python",
   "nbconvert_exporter": "python",
   "pygments_lexer": "ipython3",
   "version": "3.8.5"
  },
  "varInspector": {
   "cols": {
    "lenName": 16,
    "lenType": 16,
    "lenVar": 40
   },
   "kernels_config": {
    "python": {
     "delete_cmd_postfix": "",
     "delete_cmd_prefix": "del ",
     "library": "var_list.py",
     "varRefreshCmd": "print(var_dic_list())"
    },
    "r": {
     "delete_cmd_postfix": ") ",
     "delete_cmd_prefix": "rm(",
     "library": "var_list.r",
     "varRefreshCmd": "cat(var_dic_list()) "
    }
   },
   "types_to_exclude": [
    "module",
    "function",
    "builtin_function_or_method",
    "instance",
    "_Feature"
   ],
   "window_display": false
  }
 },
 "nbformat": 4,
 "nbformat_minor": 2
}
